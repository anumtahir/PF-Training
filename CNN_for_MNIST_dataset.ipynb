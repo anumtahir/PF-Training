{
  "nbformat": 4,
  "nbformat_minor": 0,
  "metadata": {
    "colab": {
      "provenance": [],
      "toc_visible": true
    },
    "kernelspec": {
      "name": "python3",
      "display_name": "Python 3"
    },
    "language_info": {
      "name": "python"
    }
  },
  "cells": [
    {
      "cell_type": "code",
      "execution_count": 2,
      "metadata": {
        "id": "GzdtSDhOGJz3"
      },
      "outputs": [],
      "source": [
        "# import libraries\n",
        "import keras\n",
        "from keras.datasets import fashion_mnist \n",
        "from keras.layers import Dense, Activation, Flatten, Conv2D, MaxPooling2D\n",
        "from keras.models import Sequential\n",
        "from keras.utils import to_categorical\n",
        "import numpy as np\n",
        "import matplotlib.pyplot as plt"
      ]
    },
    {
      "cell_type": "code",
      "source": [
        "# import dataset\n",
        "(train_X,train_Y), (test_X,test_Y) = fashion_mnist.load_data()"
      ],
      "metadata": {
        "colab": {
          "base_uri": "https://localhost:8080/"
        },
        "id": "vr_WYBQgGXBU",
        "outputId": "b12663bb-9cc5-4f42-8be1-c454b431db7f"
      },
      "execution_count": 3,
      "outputs": [
        {
          "output_type": "stream",
          "name": "stdout",
          "text": [
            "Downloading data from https://storage.googleapis.com/tensorflow/tf-keras-datasets/train-labels-idx1-ubyte.gz\n",
            "29515/29515 [==============================] - 0s 0us/step\n",
            "Downloading data from https://storage.googleapis.com/tensorflow/tf-keras-datasets/train-images-idx3-ubyte.gz\n",
            "26421880/26421880 [==============================] - 0s 0us/step\n",
            "Downloading data from https://storage.googleapis.com/tensorflow/tf-keras-datasets/t10k-labels-idx1-ubyte.gz\n",
            "5148/5148 [==============================] - 0s 0us/step\n",
            "Downloading data from https://storage.googleapis.com/tensorflow/tf-keras-datasets/t10k-images-idx3-ubyte.gz\n",
            "4422102/4422102 [==============================] - 0s 0us/step\n"
          ]
        }
      ]
    },
    {
      "cell_type": "code",
      "source": [
        "train_X = train_X.reshape(-1, 28,28, 1)\n",
        "test_X = test_X.reshape(-1, 28,28, 1)\n",
        "train_X.shape"
      ],
      "metadata": {
        "colab": {
          "base_uri": "https://localhost:8080/"
        },
        "id": "eOnpnynbGd_U",
        "outputId": "fb5340ee-7457-4e39-b99d-18d5cd88cb44"
      },
      "execution_count": 4,
      "outputs": [
        {
          "output_type": "execute_result",
          "data": {
            "text/plain": [
              "(60000, 28, 28, 1)"
            ]
          },
          "metadata": {},
          "execution_count": 4
        }
      ]
    },
    {
      "cell_type": "code",
      "source": [
        "train_X = train_X.astype('float32')\n",
        "test_X = test_X.astype('float32')\n",
        "train_X = train_X / 255\n",
        "test_X = test_X / 255"
      ],
      "metadata": {
        "id": "Lhx2O3EFGyt9"
      },
      "execution_count": 5,
      "outputs": []
    },
    {
      "cell_type": "code",
      "source": [
        "train_Y_one_hot = to_categorical(train_Y)\n",
        "test_Y_one_hot = to_categorical(test_Y)"
      ],
      "metadata": {
        "id": "_QKO6qMuG42x"
      },
      "execution_count": 6,
      "outputs": []
    },
    {
      "cell_type": "code",
      "source": [
        "model = Sequential()\n",
        "model.add(Conv2D(64, (3,3), input_shape=(28, 28, 1)))\n",
        "model.add(Activation('tanh'))\n",
        "model.add(MaxPooling2D(pool_size=(2,2)))\n",
        "model.add(Conv2D(64, (3,3)))\n",
        "model.add(Activation('tanh'))\n",
        "model.add(MaxPooling2D(pool_size=(2,2)))\n",
        "model.add(Flatten())\n",
        "model.add(Dense(64))\n",
        "model.add(Dense(10))\n",
        "model.add(Activation('sigmoid'))\n",
        "model.compile(loss=keras.losses.categorical_crossentropy, optimizer=keras.optimizers.Adam(),metrics=['accuracy'])"
      ],
      "metadata": {
        "id": "O-IL4ILbG-7N"
      },
      "execution_count": 6,
      "outputs": []
    },
    {
      "cell_type": "code",
      "source": [
        "model.fit(train_X, train_Y_one_hot, batch_size=64, epochs=20)\n"
      ],
      "metadata": {
        "colab": {
          "base_uri": "https://localhost:8080/"
        },
        "id": "nXY-ysVMHHL6",
        "outputId": "a1792ae8-614c-44b9-fe29-700aa1345bc5"
      },
      "execution_count": 7,
      "outputs": [
        {
          "output_type": "stream",
          "name": "stdout",
          "text": [
            "Epoch 1/20\n",
            "938/938 [==============================] - 90s 95ms/step - loss: 0.4600 - accuracy: 0.8345\n",
            "Epoch 2/20\n",
            "938/938 [==============================] - 88s 94ms/step - loss: 0.3250 - accuracy: 0.8826\n",
            "Epoch 3/20\n",
            "938/938 [==============================] - 89s 94ms/step - loss: 0.2848 - accuracy: 0.8975\n",
            "Epoch 4/20\n",
            "938/938 [==============================] - 88s 94ms/step - loss: 0.2605 - accuracy: 0.9055\n",
            "Epoch 5/20\n",
            "938/938 [==============================] - 87s 92ms/step - loss: 0.2364 - accuracy: 0.9144\n",
            "Epoch 6/20\n",
            "938/938 [==============================] - 88s 94ms/step - loss: 0.2241 - accuracy: 0.9175\n",
            "Epoch 7/20\n",
            "938/938 [==============================] - 89s 95ms/step - loss: 0.2081 - accuracy: 0.9256\n",
            "Epoch 8/20\n",
            "938/938 [==============================] - 94s 100ms/step - loss: 0.1953 - accuracy: 0.9282\n",
            "Epoch 9/20\n",
            "938/938 [==============================] - 95s 102ms/step - loss: 0.1864 - accuracy: 0.9309\n",
            "Epoch 10/20\n",
            "938/938 [==============================] - 93s 99ms/step - loss: 0.1741 - accuracy: 0.9360\n",
            "Epoch 11/20\n",
            "938/938 [==============================] - 93s 99ms/step - loss: 0.1636 - accuracy: 0.9405\n",
            "Epoch 12/20\n",
            "938/938 [==============================] - 93s 99ms/step - loss: 0.1586 - accuracy: 0.9422\n",
            "Epoch 13/20\n",
            "938/938 [==============================] - 94s 100ms/step - loss: 0.1504 - accuracy: 0.9447\n",
            "Epoch 14/20\n",
            "938/938 [==============================] - 93s 99ms/step - loss: 0.1423 - accuracy: 0.9482\n",
            "Epoch 15/20\n",
            "938/938 [==============================] - 93s 100ms/step - loss: 0.1392 - accuracy: 0.9498\n",
            "Epoch 16/20\n",
            "938/938 [==============================] - 94s 100ms/step - loss: 0.1319 - accuracy: 0.9512\n",
            "Epoch 17/20\n",
            "938/938 [==============================] - 93s 99ms/step - loss: 0.1279 - accuracy: 0.9535\n",
            "Epoch 18/20\n",
            "938/938 [==============================] - 92s 99ms/step - loss: 0.1174 - accuracy: 0.9575\n",
            "Epoch 19/20\n",
            "938/938 [==============================] - 93s 99ms/step - loss: 0.1189 - accuracy: 0.9565\n",
            "Epoch 20/20\n",
            "938/938 [==============================] - 94s 100ms/step - loss: 0.1146 - accuracy: 0.9585\n"
          ]
        },
        {
          "output_type": "execute_result",
          "data": {
            "text/plain": [
              "<keras.callbacks.History at 0x7ff09554a1c0>"
            ]
          },
          "metadata": {},
          "execution_count": 7
        }
      ]
    },
    {
      "cell_type": "code",
      "source": [
        "test_loss, test_acc = model.evaluate(test_X, test_Y_one_hot)\n",
        "print('Test loss', test_loss)\n",
        "print('Test accuracy', test_acc)"
      ],
      "metadata": {
        "colab": {
          "base_uri": "https://localhost:8080/"
        },
        "id": "kLPvEW6LLKZ0",
        "outputId": "05769151-bfbe-430b-9b1d-2cc3e45ff031"
      },
      "execution_count": 8,
      "outputs": [
        {
          "output_type": "stream",
          "name": "stdout",
          "text": [
            "313/313 [==============================] - 4s 13ms/step - loss: 0.3566 - accuracy: 0.8935\n",
            "Test loss 0.35664913058280945\n",
            "Test accuracy 0.8934999704360962\n"
          ]
        }
      ]
    },
    {
      "cell_type": "code",
      "source": [
        "predictions = model.predict(test_X)\n",
        "print(np.argmax(np.round(predictions[1])))"
      ],
      "metadata": {
        "colab": {
          "base_uri": "https://localhost:8080/"
        },
        "id": "NL0C5FcLLR95",
        "outputId": "4a6e6880-e122-4139-b8d9-c64d52fc83ca"
      },
      "execution_count": 9,
      "outputs": [
        {
          "output_type": "stream",
          "name": "stdout",
          "text": [
            "313/313 [==============================] - 4s 12ms/step\n",
            "0\n"
          ]
        }
      ]
    },
    {
      "cell_type": "code",
      "source": [
        "plt.imshow(test_X[5].reshape(28, 28), cmap = plt.cm.binary)\n",
        "plt.show()"
      ],
      "metadata": {
        "colab": {
          "base_uri": "https://localhost:8080/",
          "height": 430
        },
        "id": "ym-CW1k9Llvn",
        "outputId": "7b068e2a-02c5-4fcc-ab6d-4264e11d056e"
      },
      "execution_count": 10,
      "outputs": [
        {
          "output_type": "display_data",
          "data": {
            "text/plain": [
              "<Figure size 640x480 with 1 Axes>"
            ],
            "image/png": "[encoded data removed]"
          },
          "metadata": {}
        }
      ]
    },
    {
      "cell_type": "code",
      "source": [
        "model = Sequential()\n",
        "model.add(Conv2D(64, (3,3), input_shape=(28, 28, 1)))\n",
        "model.add(Activation('relu'))\n",
        "model.add(MaxPooling2D(pool_size=(2,2)))\n",
        "model.add(Conv2D(64, (3,3)))\n",
        "model.add(Activation('relu'))\n",
        "model.add(MaxPooling2D(pool_size=(2,2)))\n",
        "model.add(Flatten())\n",
        "model.add(Dense(64))\n",
        "model.add(Dense(10))\n",
        "model.add(Activation('sigmoid'))\n",
        "model.compile(loss=keras.losses.categorical_crossentropy, optimizer=keras.optimizers.Adam(),metrics=['accuracy'])"
      ],
      "metadata": {
        "id": "Nz_gwB_9wdHq"
      },
      "execution_count": 7,
      "outputs": []
    },
    {
      "cell_type": "code",
      "source": [
        "model.fit(train_X, train_Y_one_hot, batch_size=64, epochs=10)\n"
      ],
      "metadata": {
        "colab": {
          "base_uri": "https://localhost:8080/"
        },
        "id": "5f9ydjWGxp1L",
        "outputId": "922e2d47-553d-46eb-a2e5-c5bd2db6cad6"
      },
      "execution_count": 8,
      "outputs": [
        {
          "output_type": "stream",
          "name": "stdout",
          "text": [
            "Epoch 1/10\n",
            "938/938 [==============================] - 90s 95ms/step - loss: 0.4657 - accuracy: 0.8317\n",
            "Epoch 2/10\n",
            "938/938 [==============================] - 96s 102ms/step - loss: 0.3164 - accuracy: 0.8854\n",
            "Epoch 3/10\n",
            "938/938 [==============================] - 87s 93ms/step - loss: 0.2804 - accuracy: 0.8983\n",
            "Epoch 4/10\n",
            "938/938 [==============================] - 86s 92ms/step - loss: 0.2493 - accuracy: 0.9090\n",
            "Epoch 5/10\n",
            "938/938 [==============================] - 85s 91ms/step - loss: 0.2288 - accuracy: 0.9173\n",
            "Epoch 6/10\n",
            "938/938 [==============================] - 84s 89ms/step - loss: 0.2121 - accuracy: 0.9225\n",
            "Epoch 7/10\n",
            "938/938 [==============================] - 85s 90ms/step - loss: 0.1978 - accuracy: 0.9275\n",
            "Epoch 8/10\n",
            "938/938 [==============================] - 85s 91ms/step - loss: 0.1866 - accuracy: 0.9311\n",
            "Epoch 9/10\n",
            "938/938 [==============================] - 86s 92ms/step - loss: 0.1716 - accuracy: 0.9368\n",
            "Epoch 10/10\n",
            "938/938 [==============================] - 85s 91ms/step - loss: 0.1619 - accuracy: 0.9393\n"
          ]
        },
        {
          "output_type": "execute_result",
          "data": {
            "text/plain": [
              "<keras.callbacks.History at 0x7f258fe4ae80>"
            ]
          },
          "metadata": {},
          "execution_count": 8
        }
      ]
    },
    {
      "cell_type": "code",
      "source": [
        "test_loss, test_acc = model.evaluate(test_X, test_Y_one_hot)\n",
        "print('Test loss', test_loss)\n",
        "print('Test accuracy', test_acc)"
      ],
      "metadata": {
        "colab": {
          "base_uri": "https://localhost:8080/"
        },
        "id": "DpXcxuNN1Pyj",
        "outputId": "10c56a6b-7ada-4886-a96a-25f3a172a91e"
      },
      "execution_count": 9,
      "outputs": [
        {
          "output_type": "stream",
          "name": "stdout",
          "text": [
            "313/313 [==============================] - 12s 35ms/step - loss: 0.2870 - accuracy: 0.8982\n",
            "Test loss 0.2869952917098999\n",
            "Test accuracy 0.8981999754905701\n"
          ]
        }
      ]
    }
  ]
}