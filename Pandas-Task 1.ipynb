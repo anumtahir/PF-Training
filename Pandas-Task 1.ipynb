{
 "cells": [
  {
   "cell_type": "markdown",
   "id": "74a0d9bf",
   "metadata": {},
   "source": [
    "# Task 1"
   ]
  },
  {
   "cell_type": "markdown",
   "id": "42f11495",
   "metadata": {},
   "source": [
    "### save dfs into csvs or any related format\n"
   ]
  },
  {
   "cell_type": "code",
   "execution_count": 22,
   "id": "4be62d9c",
   "metadata": {},
   "outputs": [
    {
     "name": "stdout",
     "output_type": "stream",
     "text": [
      "<class 'pandas.core.frame.DataFrame'>\n",
      "<class 'pandas.core.frame.DataFrame'>\n"
     ]
    }
   ],
   "source": [
    "import tensorflow.keras as tk\n",
    "import pandas as pd\n",
    "dataset = tk.datasets.mnist.load_data()\n",
    "\n",
    "\n",
    "train_df = pd.DataFrame(list(zip(dataset[0][0], dataset[0][1])), columns =['image', 'label'])\n",
    "\n",
    "test_df = pd.DataFrame(list(zip(dataset[1][0], dataset[1][1])), columns =['image', 'label'])\n",
    "\n",
    "print(type(train_df))\n",
    "print(type(test_df))"
   ]
  },
  {
   "cell_type": "code",
   "execution_count": 23,
   "id": "fa56b093",
   "metadata": {},
   "outputs": [],
   "source": [
    "train_file = train_df.to_csv(\"train_data.csv\", index=False)\n",
    "test_file = test_df.to_csv(\"test_data.csv\", index=False)"
   ]
  },
  {
   "cell_type": "code",
   "execution_count": 24,
   "id": "2a02c849",
   "metadata": {},
   "outputs": [],
   "source": [
    "#train_df.head(5)"
   ]
  },
  {
   "cell_type": "markdown",
   "id": "e8683b92",
   "metadata": {},
   "source": [
    "### load dataset from csvs and covert into orignal format ((np.array, np.array), (np.array, np.array))"
   ]
  },
  {
   "cell_type": "code",
   "execution_count": 44,
   "id": "3d64d316",
   "metadata": {},
   "outputs": [
    {
     "data": {
      "text/html": [
       "<div>\n",
       "<style scoped>\n",
       "    .dataframe tbody tr th:only-of-type {\n",
       "        vertical-align: middle;\n",
       "    }\n",
       "\n",
       "    .dataframe tbody tr th {\n",
       "        vertical-align: top;\n",
       "    }\n",
       "\n",
       "    .dataframe thead th {\n",
       "        text-align: right;\n",
       "    }\n",
       "</style>\n",
       "<table border=\"1\" class=\"dataframe\">\n",
       "  <thead>\n",
       "    <tr style=\"text-align: right;\">\n",
       "      <th></th>\n",
       "      <th>image</th>\n",
       "      <th>label</th>\n",
       "    </tr>\n",
       "  </thead>\n",
       "  <tbody>\n",
       "    <tr>\n",
       "      <th>0</th>\n",
       "      <td>[[  0   0   0   0   0   0   0   0   0   0   0 ...</td>\n",
       "      <td>5</td>\n",
       "    </tr>\n",
       "    <tr>\n",
       "      <th>1</th>\n",
       "      <td>[[  0   0   0   0   0   0   0   0   0   0   0 ...</td>\n",
       "      <td>0</td>\n",
       "    </tr>\n",
       "    <tr>\n",
       "      <th>2</th>\n",
       "      <td>[[  0   0   0   0   0   0   0   0   0   0   0 ...</td>\n",
       "      <td>4</td>\n",
       "    </tr>\n",
       "    <tr>\n",
       "      <th>3</th>\n",
       "      <td>[[  0   0   0   0   0   0   0   0   0   0   0 ...</td>\n",
       "      <td>1</td>\n",
       "    </tr>\n",
       "    <tr>\n",
       "      <th>4</th>\n",
       "      <td>[[  0   0   0   0   0   0   0   0   0   0   0 ...</td>\n",
       "      <td>9</td>\n",
       "    </tr>\n",
       "  </tbody>\n",
       "</table>\n",
       "</div>"
      ],
      "text/plain": [
       "                                               image  label\n",
       "0  [[  0   0   0   0   0   0   0   0   0   0   0 ...      5\n",
       "1  [[  0   0   0   0   0   0   0   0   0   0   0 ...      0\n",
       "2  [[  0   0   0   0   0   0   0   0   0   0   0 ...      4\n",
       "3  [[  0   0   0   0   0   0   0   0   0   0   0 ...      1\n",
       "4  [[  0   0   0   0   0   0   0   0   0   0   0 ...      9"
      ]
     },
     "execution_count": 44,
     "metadata": {},
     "output_type": "execute_result"
    }
   ],
   "source": [
    "import pandas as pd\n",
    "trainf = pd.read_csv(\"train_data.csv\")\n",
    "testf = pd.read_csv(\"test_data.csv\")\n",
    "trainf.head(5)"
   ]
  },
  {
   "cell_type": "code",
   "execution_count": 52,
   "id": "21ceba4f",
   "metadata": {},
   "outputs": [],
   "source": [
    "import numpy as np\n",
    "#trainf.to_numpy()\n",
    "train_img = trainf.iloc[:,0]\n",
    "train_img = train_img.to_numpy()\n",
    "train_lbl = trainf.iloc[:,1]\n",
    "train_lbl = train_lbl.to_numpy()\n",
    "train_data = (train_img, train_lbl)\n",
    "\n",
    "test_img = testf.iloc[:,0]\n",
    "test_img = test_img.to_numpy()\n",
    "test_lbl = testf.iloc[:,1]\n",
    "test_lbl = test_lbl.to_numpy()\n",
    "test_data = (test_img, test_lbl)\n",
    "\n",
    "\n",
    "dataset = (train_data, test_data)\n"
   ]
  },
  {
   "cell_type": "code",
   "execution_count": null,
   "id": "f53eb74d",
   "metadata": {},
   "outputs": [],
   "source": []
  }
 ],
 "metadata": {
  "kernelspec": {
   "display_name": "Python 3 (ipykernel)",
   "language": "python",
   "name": "python3"
  },
  "language_info": {
   "codemirror_mode": {
    "name": "ipython",
    "version": 3
   },
   "file_extension": ".py",
   "mimetype": "text/x-python",
   "name": "python",
   "nbconvert_exporter": "python",
   "pygments_lexer": "ipython3",
   "version": "3.10.6"
  }
 },
 "nbformat": 4,
 "nbformat_minor": 5
}
