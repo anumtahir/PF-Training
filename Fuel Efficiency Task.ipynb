{
 "cells": [
  {
   "cell_type": "markdown",
   "id": "c96aaa05",
   "metadata": {},
   "source": [
    "# Task-1"
   ]
  },
  {
   "cell_type": "code",
   "execution_count": null,
   "id": "a23ff0e9",
   "metadata": {},
   "outputs": [],
   "source": [
    "import numpy as np\n",
    "from fractions import Fraction"
   ]
  },
  {
   "cell_type": "code",
   "execution_count": null,
   "id": "ab70b10f",
   "metadata": {},
   "outputs": [],
   "source": [
    "\n",
    "def solution(mat):\n",
    "    # matrix attributes\n",
    "    matsize = len(mat)\n",
    "    rowsum = [sum(r) for r in mat]\n",
    "    \n",
    "    if rowsum[0] == 0:\n",
    "        return [1, 1]\n",
    "    # dict indicating which row has all 0\n",
    "    dictrz = dict(zip(list(i for i in range(len(mat))), \n",
    "                    list(0 if i == 0 else 1 for i in rowsum)))\n",
    "    # Sorted\n",
    "    dictrzs = {k: v for k, v in sorted(dictrz.items(), key=lambda item: item[1])}\n",
    "    \n",
    "    # Number of rows with all zero vs. not\n",
    "    numallz = list(dictrz.values()).count(0)\n",
    "    numnonz = len(mat) - numallz\n",
    "\n",
    "    # transform matrix to Absorbing Markov Chain standard form\n",
    "    arr = np.array(mat)\n",
    "    # Move rows with all 0 to top\n",
    "    arrR = arr[list(dictrzs.keys()), :]\n",
    "    # shifting column order correspondingly\n",
    "    arrRC = arrR[:, list(dictrzs.keys())]\n",
    "    \n",
    "    # Replace number with fraction\n",
    "    newrowsum = [sum(r) for r in arrRC]\n",
    "    newmat = []\n",
    "    for i in range(len(arrRC)):\n",
    "        newmat.append(list(map(lambda x: 0 if newrowsum[i] == 0 \n",
    "                            else x / newrowsum[i], arrRC[i])))\n",
    "\n",
    "    newarr = np.array(newmat)\n",
    "    \n",
    "    \n",
    "    # Obtain FR\n",
    "    Q = newarr[numallz:, numallz:]\n",
    "    R = newarr[numallz:, :numallz]\n",
    "    ImQ = np.subtract(np.identity(numnonz), Q)\n",
    "    F = np.linalg.inv(ImQ)\n",
    "    FR = np.matmul(F, R)\n",
    "    # Fractionize FR\n",
    "    FRf = []\n",
    "    for i in range(numnonz):\n",
    "        FRf.append([Fraction.from_float(x).limit_denominator(max_denominator = 2**32) for x in FR[i]])\n",
    "\n",
    "    print(FRf)\n",
    "    # Transform final result\n",
    "    maxd = max(list(map(lambda x: x.denominator, FRf[0])))\n",
    "    indv = list(map(lambda x: (x*maxd).numerator, FRf[0]))\n",
    "    return list(indv + [maxd])\n",
    "\n",
    "\n",
    "\n",
    "\n",
    "\n",
    "\n",
    "mat1 = [[0,1,0,0,0,1],[4,0,0,3,2,0],  [0,0,0,0,0,0],  [0,0,0,0,0,0],  [0,0,0,0,0,0],  [0,0,0,0,0,0]]\n",
    "print(solution(mat1))\n",
    "print(\"___________________\\n\\n\")\n",
    "\n",
    "mat2 = [[0, 1, 0, 0, 0, 1], [4, 0, 0, 3, 2, 0], [0, 0, 0, 0, 0, 0], [0, 0, 0, 0, 0, 0], [0,0, 0, 0, 0, 0], [0, 0, 0, 0, 0, 0]]\n",
    "print(solution(mat2))\n",
    "print(\"___________________\\n\\n\")\n",
    "\n",
    "mat3 = [[0, 2, 1, 0, 0], [0, 0, 0, 3, 4], [0, 0, 0, 0, 0], [0, 0, 0, 0,0], [0, 0, 0, 0, 0]]\n",
    "print(solution(mat3))\n",
    "print(\"___________________\\n\\n\")\n"
   ]
  },
  {
   "cell_type": "markdown",
   "id": "2a5509a5",
   "metadata": {},
   "source": [
    "# Task 2"
   ]
  },
  {
   "cell_type": "code",
   "execution_count": null,
   "id": "f4a20a64",
   "metadata": {},
   "outputs": [],
   "source": [
    "\n",
    "from flask import Flask, jsonify, request\n",
    "  \n",
    "app = Flask(__name__)\n",
    "  \n",
    "  \n",
    "@app.route('/hello', methods=['GET'])\n",
    "def helloworld():\n",
    "    if(request.method == 'GET'):\n",
    "        mat1 = [[0,1,0,0,0,1],[4,0,0,3,2,0],  [0,0,0,0,0,0],  [0,0,0,0,0,0],  [0,0,0,0,0,0],  [0,0,0,0,0,0]]\n",
    "        #output = solution(mat1)\n",
    "        return solution(mat1)\n",
    "        #return jsonify(output)\n",
    "    \n",
    "if __name__ == '__main__':\n",
    "    app.run(debug=True)"
   ]
  },
  {
   "cell_type": "code",
   "execution_count": null,
   "id": "319d754a",
   "metadata": {},
   "outputs": [],
   "source": []
  }
 ],
 "metadata": {
  "kernelspec": {
   "display_name": "Python 3 (ipykernel)",
   "language": "python",
   "name": "python3"
  },
  "language_info": {
   "codemirror_mode": {
    "name": "ipython",
    "version": 3
   },
   "file_extension": ".py",
   "mimetype": "text/x-python",
   "name": "python",
   "nbconvert_exporter": "python",
   "pygments_lexer": "ipython3",
   "version": "3.10.6"
  }
 },
 "nbformat": 4,
 "nbformat_minor": 5
}
