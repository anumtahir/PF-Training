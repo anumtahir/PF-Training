{
 "cells": [
  {
   "cell_type": "markdown",
   "id": "974aa74f",
   "metadata": {},
   "source": [
    "# Analyzing Customer Purchase Behavior"
   ]
  },
  {
   "cell_type": "code",
   "execution_count": 99,
   "id": "b4e9284d",
   "metadata": {},
   "outputs": [],
   "source": [
    "import pandas as pd\n",
    "import numpy as np\n",
    "import seaborn as sns\n",
    "import matplotlib.pyplot as plt\n",
    "import re"
   ]
  },
  {
   "cell_type": "markdown",
   "id": "2c34aadf",
   "metadata": {},
   "source": [
    "### * Read Dataset *"
   ]
  },
  {
   "cell_type": "code",
   "execution_count": 100,
   "id": "8a9ac88c",
   "metadata": {},
   "outputs": [
    {
     "data": {
      "text/html": [
       "<div>\n",
       "<style scoped>\n",
       "    .dataframe tbody tr th:only-of-type {\n",
       "        vertical-align: middle;\n",
       "    }\n",
       "\n",
       "    .dataframe tbody tr th {\n",
       "        vertical-align: top;\n",
       "    }\n",
       "\n",
       "    .dataframe thead th {\n",
       "        text-align: right;\n",
       "    }\n",
       "</style>\n",
       "<table border=\"1\" class=\"dataframe\">\n",
       "  <thead>\n",
       "    <tr style=\"text-align: right;\">\n",
       "      <th></th>\n",
       "      <th>Invoice</th>\n",
       "      <th>StockCode</th>\n",
       "      <th>Description</th>\n",
       "      <th>Quantity</th>\n",
       "      <th>InvoiceDate</th>\n",
       "      <th>Price</th>\n",
       "      <th>Customer ID</th>\n",
       "      <th>Country</th>\n",
       "    </tr>\n",
       "  </thead>\n",
       "  <tbody>\n",
       "    <tr>\n",
       "      <th>0</th>\n",
       "      <td>489434</td>\n",
       "      <td>85048</td>\n",
       "      <td>15CM CHRISTMAS GLASS BALL 20 LIGHTS</td>\n",
       "      <td>12</td>\n",
       "      <td>2009-12-01 07:45:00</td>\n",
       "      <td>6.95</td>\n",
       "      <td>13085.0</td>\n",
       "      <td>United Kingdom</td>\n",
       "    </tr>\n",
       "    <tr>\n",
       "      <th>1</th>\n",
       "      <td>489434</td>\n",
       "      <td>79323P</td>\n",
       "      <td>PINK CHERRY LIGHTS</td>\n",
       "      <td>12</td>\n",
       "      <td>2009-12-01 07:45:00</td>\n",
       "      <td>6.75</td>\n",
       "      <td>13085.0</td>\n",
       "      <td>United Kingdom</td>\n",
       "    </tr>\n",
       "    <tr>\n",
       "      <th>2</th>\n",
       "      <td>489434</td>\n",
       "      <td>79323W</td>\n",
       "      <td>WHITE CHERRY LIGHTS</td>\n",
       "      <td>12</td>\n",
       "      <td>2009-12-01 07:45:00</td>\n",
       "      <td>6.75</td>\n",
       "      <td>13085.0</td>\n",
       "      <td>United Kingdom</td>\n",
       "    </tr>\n",
       "    <tr>\n",
       "      <th>3</th>\n",
       "      <td>489434</td>\n",
       "      <td>22041</td>\n",
       "      <td>RECORD FRAME 7\" SINGLE SIZE</td>\n",
       "      <td>48</td>\n",
       "      <td>2009-12-01 07:45:00</td>\n",
       "      <td>2.10</td>\n",
       "      <td>13085.0</td>\n",
       "      <td>United Kingdom</td>\n",
       "    </tr>\n",
       "    <tr>\n",
       "      <th>4</th>\n",
       "      <td>489434</td>\n",
       "      <td>21232</td>\n",
       "      <td>STRAWBERRY CERAMIC TRINKET BOX</td>\n",
       "      <td>24</td>\n",
       "      <td>2009-12-01 07:45:00</td>\n",
       "      <td>1.25</td>\n",
       "      <td>13085.0</td>\n",
       "      <td>United Kingdom</td>\n",
       "    </tr>\n",
       "    <tr>\n",
       "      <th>5</th>\n",
       "      <td>489434</td>\n",
       "      <td>22064</td>\n",
       "      <td>PINK DOUGHNUT TRINKET POT</td>\n",
       "      <td>24</td>\n",
       "      <td>2009-12-01 07:45:00</td>\n",
       "      <td>1.65</td>\n",
       "      <td>13085.0</td>\n",
       "      <td>United Kingdom</td>\n",
       "    </tr>\n",
       "    <tr>\n",
       "      <th>6</th>\n",
       "      <td>489434</td>\n",
       "      <td>21871</td>\n",
       "      <td>SAVE THE PLANET MUG</td>\n",
       "      <td>24</td>\n",
       "      <td>2009-12-01 07:45:00</td>\n",
       "      <td>1.25</td>\n",
       "      <td>13085.0</td>\n",
       "      <td>United Kingdom</td>\n",
       "    </tr>\n",
       "    <tr>\n",
       "      <th>7</th>\n",
       "      <td>489434</td>\n",
       "      <td>21523</td>\n",
       "      <td>FANCY FONT HOME SWEET HOME DOORMAT</td>\n",
       "      <td>10</td>\n",
       "      <td>2009-12-01 07:45:00</td>\n",
       "      <td>5.95</td>\n",
       "      <td>13085.0</td>\n",
       "      <td>United Kingdom</td>\n",
       "    </tr>\n",
       "    <tr>\n",
       "      <th>8</th>\n",
       "      <td>489435</td>\n",
       "      <td>22350</td>\n",
       "      <td>CAT BOWL</td>\n",
       "      <td>12</td>\n",
       "      <td>2009-12-01 07:46:00</td>\n",
       "      <td>2.55</td>\n",
       "      <td>13085.0</td>\n",
       "      <td>United Kingdom</td>\n",
       "    </tr>\n",
       "    <tr>\n",
       "      <th>9</th>\n",
       "      <td>489435</td>\n",
       "      <td>22349</td>\n",
       "      <td>DOG BOWL , CHASING BALL DESIGN</td>\n",
       "      <td>12</td>\n",
       "      <td>2009-12-01 07:46:00</td>\n",
       "      <td>3.75</td>\n",
       "      <td>13085.0</td>\n",
       "      <td>United Kingdom</td>\n",
       "    </tr>\n",
       "  </tbody>\n",
       "</table>\n",
       "</div>"
      ],
      "text/plain": [
       "  Invoice StockCode                          Description  Quantity  \\\n",
       "0  489434     85048  15CM CHRISTMAS GLASS BALL 20 LIGHTS        12   \n",
       "1  489434    79323P                   PINK CHERRY LIGHTS        12   \n",
       "2  489434    79323W                  WHITE CHERRY LIGHTS        12   \n",
       "3  489434     22041         RECORD FRAME 7\" SINGLE SIZE         48   \n",
       "4  489434     21232       STRAWBERRY CERAMIC TRINKET BOX        24   \n",
       "5  489434     22064           PINK DOUGHNUT TRINKET POT         24   \n",
       "6  489434     21871                  SAVE THE PLANET MUG        24   \n",
       "7  489434     21523   FANCY FONT HOME SWEET HOME DOORMAT        10   \n",
       "8  489435     22350                            CAT BOWL         12   \n",
       "9  489435     22349       DOG BOWL , CHASING BALL DESIGN        12   \n",
       "\n",
       "          InvoiceDate  Price  Customer ID         Country  \n",
       "0 2009-12-01 07:45:00   6.95      13085.0  United Kingdom  \n",
       "1 2009-12-01 07:45:00   6.75      13085.0  United Kingdom  \n",
       "2 2009-12-01 07:45:00   6.75      13085.0  United Kingdom  \n",
       "3 2009-12-01 07:45:00   2.10      13085.0  United Kingdom  \n",
       "4 2009-12-01 07:45:00   1.25      13085.0  United Kingdom  \n",
       "5 2009-12-01 07:45:00   1.65      13085.0  United Kingdom  \n",
       "6 2009-12-01 07:45:00   1.25      13085.0  United Kingdom  \n",
       "7 2009-12-01 07:45:00   5.95      13085.0  United Kingdom  \n",
       "8 2009-12-01 07:46:00   2.55      13085.0  United Kingdom  \n",
       "9 2009-12-01 07:46:00   3.75      13085.0  United Kingdom  "
      ]
     },
     "execution_count": 100,
     "metadata": {},
     "output_type": "execute_result"
    }
   ],
   "source": [
    "df = pd.read_excel(\"online_retail_II.xlsx\")\n",
    "df.head(10)"
   ]
  },
  {
   "cell_type": "markdown",
   "id": "7f526e98",
   "metadata": {},
   "source": [
    "### * Size of Dataset *"
   ]
  },
  {
   "cell_type": "code",
   "execution_count": 101,
   "id": "b192bad9",
   "metadata": {},
   "outputs": [
    {
     "name": "stdout",
     "output_type": "stream",
     "text": [
      "Num of instances:  525461\n",
      "Num of attributes:  8\n"
     ]
    }
   ],
   "source": [
    "print(\"Num of instances: \", df.shape[0])\n",
    "print(\"Num of attributes: \", df.shape[1])"
   ]
  },
  {
   "cell_type": "markdown",
   "id": "b1b80b56",
   "metadata": {},
   "source": [
    "### * Attributes *"
   ]
  },
  {
   "cell_type": "code",
   "execution_count": 102,
   "id": "b1e2225f",
   "metadata": {},
   "outputs": [
    {
     "name": "stdout",
     "output_type": "stream",
     "text": [
      "<class 'pandas.core.frame.DataFrame'>\n",
      "RangeIndex: 525461 entries, 0 to 525460\n",
      "Data columns (total 8 columns):\n",
      " #   Column       Non-Null Count   Dtype         \n",
      "---  ------       --------------   -----         \n",
      " 0   Invoice      525461 non-null  object        \n",
      " 1   StockCode    525461 non-null  object        \n",
      " 2   Description  522533 non-null  object        \n",
      " 3   Quantity     525461 non-null  int64         \n",
      " 4   InvoiceDate  525461 non-null  datetime64[ns]\n",
      " 5   Price        525461 non-null  float64       \n",
      " 6   Customer ID  417534 non-null  float64       \n",
      " 7   Country      525461 non-null  object        \n",
      "dtypes: datetime64[ns](1), float64(2), int64(1), object(4)\n",
      "memory usage: 32.1+ MB\n"
     ]
    }
   ],
   "source": [
    "df.info()"
   ]
  },
  {
   "cell_type": "markdown",
   "id": "ed6e2dd2",
   "metadata": {},
   "source": [
    "<b>Numerical Attributes</b>\n",
    "<li>Quantity</li>\n",
    "<li>Price </li>\n",
    "<li>Customer ID</li>\n",
    "\n"
   ]
  },
  {
   "cell_type": "markdown",
   "id": "b844f956",
   "metadata": {},
   "source": [
    "<b>Categorical Attributes</b>\n",
    "<li>Invoice</li>\n",
    "<li>StockCode</li>\n",
    "<li>Country</li>\n",
    "\n"
   ]
  },
  {
   "cell_type": "markdown",
   "id": "f2a0743b",
   "metadata": {},
   "source": [
    "<b>Date Time Attributes</b>\n",
    "<li>InvoiceDate</li>\n",
    "\n"
   ]
  },
  {
   "cell_type": "markdown",
   "id": "eaba3862",
   "metadata": {},
   "source": [
    "### * Description of Data *"
   ]
  },
  {
   "cell_type": "code",
   "execution_count": 103,
   "id": "b5aef0d1",
   "metadata": {},
   "outputs": [
    {
     "data": {
      "text/html": [
       "<div>\n",
       "<style scoped>\n",
       "    .dataframe tbody tr th:only-of-type {\n",
       "        vertical-align: middle;\n",
       "    }\n",
       "\n",
       "    .dataframe tbody tr th {\n",
       "        vertical-align: top;\n",
       "    }\n",
       "\n",
       "    .dataframe thead th {\n",
       "        text-align: right;\n",
       "    }\n",
       "</style>\n",
       "<table border=\"1\" class=\"dataframe\">\n",
       "  <thead>\n",
       "    <tr style=\"text-align: right;\">\n",
       "      <th></th>\n",
       "      <th>Quantity</th>\n",
       "      <th>Price</th>\n",
       "      <th>Customer ID</th>\n",
       "    </tr>\n",
       "  </thead>\n",
       "  <tbody>\n",
       "    <tr>\n",
       "      <th>count</th>\n",
       "      <td>525461.000000</td>\n",
       "      <td>525461.000000</td>\n",
       "      <td>417534.000000</td>\n",
       "    </tr>\n",
       "    <tr>\n",
       "      <th>mean</th>\n",
       "      <td>10.337667</td>\n",
       "      <td>4.688834</td>\n",
       "      <td>15360.645478</td>\n",
       "    </tr>\n",
       "    <tr>\n",
       "      <th>std</th>\n",
       "      <td>107.424110</td>\n",
       "      <td>146.126914</td>\n",
       "      <td>1680.811316</td>\n",
       "    </tr>\n",
       "    <tr>\n",
       "      <th>min</th>\n",
       "      <td>-9600.000000</td>\n",
       "      <td>-53594.360000</td>\n",
       "      <td>12346.000000</td>\n",
       "    </tr>\n",
       "    <tr>\n",
       "      <th>25%</th>\n",
       "      <td>1.000000</td>\n",
       "      <td>1.250000</td>\n",
       "      <td>13983.000000</td>\n",
       "    </tr>\n",
       "    <tr>\n",
       "      <th>50%</th>\n",
       "      <td>3.000000</td>\n",
       "      <td>2.100000</td>\n",
       "      <td>15311.000000</td>\n",
       "    </tr>\n",
       "    <tr>\n",
       "      <th>75%</th>\n",
       "      <td>10.000000</td>\n",
       "      <td>4.210000</td>\n",
       "      <td>16799.000000</td>\n",
       "    </tr>\n",
       "    <tr>\n",
       "      <th>max</th>\n",
       "      <td>19152.000000</td>\n",
       "      <td>25111.090000</td>\n",
       "      <td>18287.000000</td>\n",
       "    </tr>\n",
       "  </tbody>\n",
       "</table>\n",
       "</div>"
      ],
      "text/plain": [
       "            Quantity          Price    Customer ID\n",
       "count  525461.000000  525461.000000  417534.000000\n",
       "mean       10.337667       4.688834   15360.645478\n",
       "std       107.424110     146.126914    1680.811316\n",
       "min     -9600.000000  -53594.360000   12346.000000\n",
       "25%         1.000000       1.250000   13983.000000\n",
       "50%         3.000000       2.100000   15311.000000\n",
       "75%        10.000000       4.210000   16799.000000\n",
       "max     19152.000000   25111.090000   18287.000000"
      ]
     },
     "execution_count": 103,
     "metadata": {},
     "output_type": "execute_result"
    }
   ],
   "source": [
    "df.describe()"
   ]
  },
  {
   "cell_type": "markdown",
   "id": "60d770cc",
   "metadata": {},
   "source": [
    "<b>Observations</b>\n",
    "<li>Above decription is all about numerical attributes.</li>\n",
    "<li>Some of the Customer IDs are missing from the data.</li>\n",
    "<li>Usually customers purchase 10 items.</li>\n",
    "<li>Average price of the item is Rs.5 and at max it is around 25k.</li>\n",
    "<li>Quantity and Price have negative values. It may be due to canceled transactions. Canceled transactions is indicated by invoice number which starts with letter 'c'. Probably transactions with negative values of quantity are canceled.</li>\n"
   ]
  },
  {
   "cell_type": "code",
   "execution_count": 104,
   "id": "dfaaeca0",
   "metadata": {},
   "outputs": [
    {
     "data": {
      "text/html": [
       "<div>\n",
       "<style scoped>\n",
       "    .dataframe tbody tr th:only-of-type {\n",
       "        vertical-align: middle;\n",
       "    }\n",
       "\n",
       "    .dataframe tbody tr th {\n",
       "        vertical-align: top;\n",
       "    }\n",
       "\n",
       "    .dataframe thead th {\n",
       "        text-align: right;\n",
       "    }\n",
       "</style>\n",
       "<table border=\"1\" class=\"dataframe\">\n",
       "  <thead>\n",
       "    <tr style=\"text-align: right;\">\n",
       "      <th></th>\n",
       "      <th>Invoice</th>\n",
       "      <th>StockCode</th>\n",
       "      <th>Description</th>\n",
       "      <th>Quantity</th>\n",
       "      <th>InvoiceDate</th>\n",
       "      <th>Price</th>\n",
       "      <th>Customer ID</th>\n",
       "      <th>Country</th>\n",
       "    </tr>\n",
       "  </thead>\n",
       "  <tbody>\n",
       "    <tr>\n",
       "      <th>178</th>\n",
       "      <td>C489449</td>\n",
       "      <td>22087</td>\n",
       "      <td>PAPER BUNTING WHITE LACE</td>\n",
       "      <td>-12</td>\n",
       "      <td>2009-12-01 10:33:00</td>\n",
       "      <td>2.95</td>\n",
       "      <td>16321.0</td>\n",
       "      <td>Australia</td>\n",
       "    </tr>\n",
       "    <tr>\n",
       "      <th>179</th>\n",
       "      <td>C489449</td>\n",
       "      <td>85206A</td>\n",
       "      <td>CREAM FELT EASTER EGG BASKET</td>\n",
       "      <td>-6</td>\n",
       "      <td>2009-12-01 10:33:00</td>\n",
       "      <td>1.65</td>\n",
       "      <td>16321.0</td>\n",
       "      <td>Australia</td>\n",
       "    </tr>\n",
       "    <tr>\n",
       "      <th>180</th>\n",
       "      <td>C489449</td>\n",
       "      <td>21895</td>\n",
       "      <td>POTTING SHED SOW 'N' GROW SET</td>\n",
       "      <td>-4</td>\n",
       "      <td>2009-12-01 10:33:00</td>\n",
       "      <td>4.25</td>\n",
       "      <td>16321.0</td>\n",
       "      <td>Australia</td>\n",
       "    </tr>\n",
       "    <tr>\n",
       "      <th>181</th>\n",
       "      <td>C489449</td>\n",
       "      <td>21896</td>\n",
       "      <td>POTTING SHED TWINE</td>\n",
       "      <td>-6</td>\n",
       "      <td>2009-12-01 10:33:00</td>\n",
       "      <td>2.10</td>\n",
       "      <td>16321.0</td>\n",
       "      <td>Australia</td>\n",
       "    </tr>\n",
       "    <tr>\n",
       "      <th>182</th>\n",
       "      <td>C489449</td>\n",
       "      <td>22083</td>\n",
       "      <td>PAPER CHAIN KIT RETRO SPOT</td>\n",
       "      <td>-12</td>\n",
       "      <td>2009-12-01 10:33:00</td>\n",
       "      <td>2.95</td>\n",
       "      <td>16321.0</td>\n",
       "      <td>Australia</td>\n",
       "    </tr>\n",
       "  </tbody>\n",
       "</table>\n",
       "</div>"
      ],
      "text/plain": [
       "     Invoice StockCode                    Description  Quantity  \\\n",
       "178  C489449     22087       PAPER BUNTING WHITE LACE       -12   \n",
       "179  C489449    85206A   CREAM FELT EASTER EGG BASKET        -6   \n",
       "180  C489449     21895  POTTING SHED SOW 'N' GROW SET        -4   \n",
       "181  C489449     21896             POTTING SHED TWINE        -6   \n",
       "182  C489449     22083     PAPER CHAIN KIT RETRO SPOT       -12   \n",
       "\n",
       "            InvoiceDate  Price  Customer ID    Country  \n",
       "178 2009-12-01 10:33:00   2.95      16321.0  Australia  \n",
       "179 2009-12-01 10:33:00   1.65      16321.0  Australia  \n",
       "180 2009-12-01 10:33:00   4.25      16321.0  Australia  \n",
       "181 2009-12-01 10:33:00   2.10      16321.0  Australia  \n",
       "182 2009-12-01 10:33:00   2.95      16321.0  Australia  "
      ]
     },
     "execution_count": 104,
     "metadata": {},
     "output_type": "execute_result"
    }
   ],
   "source": [
    "cancel_trans = df[df['Invoice'].astype(str).str.contains('C')]\n",
    "cancel_trans.head()"
   ]
  },
  {
   "cell_type": "code",
   "execution_count": 105,
   "id": "239c95b1",
   "metadata": {},
   "outputs": [
    {
     "name": "stdout",
     "output_type": "stream",
     "text": [
      "No of cancelled transactions:  10206\n",
      "Total number of transaction with negative quantity: 12326\n"
     ]
    }
   ],
   "source": [
    "print(\"No of cancelled transactions: \", len(cancel_trans))\n",
    "print(\"Total number of transaction with negative quantity:\", df[df['Quantity'] <= 0 ]['Quantity'].count())"
   ]
  },
  {
   "cell_type": "code",
   "execution_count": 106,
   "id": "a751308b",
   "metadata": {},
   "outputs": [
    {
     "data": {
      "text/html": [
       "<div>\n",
       "<style scoped>\n",
       "    .dataframe tbody tr th:only-of-type {\n",
       "        vertical-align: middle;\n",
       "    }\n",
       "\n",
       "    .dataframe tbody tr th {\n",
       "        vertical-align: top;\n",
       "    }\n",
       "\n",
       "    .dataframe thead th {\n",
       "        text-align: right;\n",
       "    }\n",
       "</style>\n",
       "<table border=\"1\" class=\"dataframe\">\n",
       "  <thead>\n",
       "    <tr style=\"text-align: right;\">\n",
       "      <th></th>\n",
       "      <th>Invoice</th>\n",
       "      <th>StockCode</th>\n",
       "      <th>Description</th>\n",
       "      <th>Quantity</th>\n",
       "      <th>InvoiceDate</th>\n",
       "      <th>Price</th>\n",
       "      <th>Customer ID</th>\n",
       "      <th>Country</th>\n",
       "    </tr>\n",
       "  </thead>\n",
       "  <tbody>\n",
       "    <tr>\n",
       "      <th>263</th>\n",
       "      <td>489464</td>\n",
       "      <td>21733</td>\n",
       "      <td>85123a mixed</td>\n",
       "      <td>-96</td>\n",
       "      <td>2009-12-01 10:52:00</td>\n",
       "      <td>0.0</td>\n",
       "      <td>NaN</td>\n",
       "      <td>United Kingdom</td>\n",
       "    </tr>\n",
       "    <tr>\n",
       "      <th>283</th>\n",
       "      <td>489463</td>\n",
       "      <td>71477</td>\n",
       "      <td>short</td>\n",
       "      <td>-240</td>\n",
       "      <td>2009-12-01 10:52:00</td>\n",
       "      <td>0.0</td>\n",
       "      <td>NaN</td>\n",
       "      <td>United Kingdom</td>\n",
       "    </tr>\n",
       "    <tr>\n",
       "      <th>284</th>\n",
       "      <td>489467</td>\n",
       "      <td>85123A</td>\n",
       "      <td>21733 mixed</td>\n",
       "      <td>-192</td>\n",
       "      <td>2009-12-01 10:53:00</td>\n",
       "      <td>0.0</td>\n",
       "      <td>NaN</td>\n",
       "      <td>United Kingdom</td>\n",
       "    </tr>\n",
       "    <tr>\n",
       "      <th>470</th>\n",
       "      <td>489521</td>\n",
       "      <td>21646</td>\n",
       "      <td>NaN</td>\n",
       "      <td>-50</td>\n",
       "      <td>2009-12-01 11:44:00</td>\n",
       "      <td>0.0</td>\n",
       "      <td>NaN</td>\n",
       "      <td>United Kingdom</td>\n",
       "    </tr>\n",
       "    <tr>\n",
       "      <th>3114</th>\n",
       "      <td>489655</td>\n",
       "      <td>20683</td>\n",
       "      <td>NaN</td>\n",
       "      <td>-44</td>\n",
       "      <td>2009-12-01 17:26:00</td>\n",
       "      <td>0.0</td>\n",
       "      <td>NaN</td>\n",
       "      <td>United Kingdom</td>\n",
       "    </tr>\n",
       "  </tbody>\n",
       "</table>\n",
       "</div>"
      ],
      "text/plain": [
       "     Invoice StockCode   Description  Quantity         InvoiceDate  Price  \\\n",
       "263   489464     21733  85123a mixed       -96 2009-12-01 10:52:00    0.0   \n",
       "283   489463     71477         short      -240 2009-12-01 10:52:00    0.0   \n",
       "284   489467    85123A   21733 mixed      -192 2009-12-01 10:53:00    0.0   \n",
       "470   489521     21646           NaN       -50 2009-12-01 11:44:00    0.0   \n",
       "3114  489655     20683           NaN       -44 2009-12-01 17:26:00    0.0   \n",
       "\n",
       "      Customer ID         Country  \n",
       "263           NaN  United Kingdom  \n",
       "283           NaN  United Kingdom  \n",
       "284           NaN  United Kingdom  \n",
       "470           NaN  United Kingdom  \n",
       "3114          NaN  United Kingdom  "
      ]
     },
     "execution_count": 106,
     "metadata": {},
     "output_type": "execute_result"
    }
   ],
   "source": [
    "df[df['Price'] == 0].head()"
   ]
  },
  {
   "cell_type": "code",
   "execution_count": 107,
   "id": "fb56a4fc",
   "metadata": {},
   "outputs": [
    {
     "data": {
      "text/html": [
       "<div>\n",
       "<style scoped>\n",
       "    .dataframe tbody tr th:only-of-type {\n",
       "        vertical-align: middle;\n",
       "    }\n",
       "\n",
       "    .dataframe tbody tr th {\n",
       "        vertical-align: top;\n",
       "    }\n",
       "\n",
       "    .dataframe thead th {\n",
       "        text-align: right;\n",
       "    }\n",
       "</style>\n",
       "<table border=\"1\" class=\"dataframe\">\n",
       "  <thead>\n",
       "    <tr style=\"text-align: right;\">\n",
       "      <th></th>\n",
       "      <th>Invoice</th>\n",
       "      <th>StockCode</th>\n",
       "      <th>Description</th>\n",
       "      <th>Quantity</th>\n",
       "      <th>InvoiceDate</th>\n",
       "      <th>Price</th>\n",
       "      <th>Customer ID</th>\n",
       "      <th>Country</th>\n",
       "    </tr>\n",
       "  </thead>\n",
       "  <tbody>\n",
       "    <tr>\n",
       "      <th>179403</th>\n",
       "      <td>A506401</td>\n",
       "      <td>B</td>\n",
       "      <td>Adjust bad debt</td>\n",
       "      <td>1</td>\n",
       "      <td>2010-04-29 13:36:00</td>\n",
       "      <td>-53594.36</td>\n",
       "      <td>NaN</td>\n",
       "      <td>United Kingdom</td>\n",
       "    </tr>\n",
       "    <tr>\n",
       "      <th>276274</th>\n",
       "      <td>A516228</td>\n",
       "      <td>B</td>\n",
       "      <td>Adjust bad debt</td>\n",
       "      <td>1</td>\n",
       "      <td>2010-07-19 11:24:00</td>\n",
       "      <td>-44031.79</td>\n",
       "      <td>NaN</td>\n",
       "      <td>United Kingdom</td>\n",
       "    </tr>\n",
       "    <tr>\n",
       "      <th>403472</th>\n",
       "      <td>A528059</td>\n",
       "      <td>B</td>\n",
       "      <td>Adjust bad debt</td>\n",
       "      <td>1</td>\n",
       "      <td>2010-10-20 12:04:00</td>\n",
       "      <td>-38925.87</td>\n",
       "      <td>NaN</td>\n",
       "      <td>United Kingdom</td>\n",
       "    </tr>\n",
       "  </tbody>\n",
       "</table>\n",
       "</div>"
      ],
      "text/plain": [
       "        Invoice StockCode      Description  Quantity         InvoiceDate  \\\n",
       "179403  A506401         B  Adjust bad debt         1 2010-04-29 13:36:00   \n",
       "276274  A516228         B  Adjust bad debt         1 2010-07-19 11:24:00   \n",
       "403472  A528059         B  Adjust bad debt         1 2010-10-20 12:04:00   \n",
       "\n",
       "           Price  Customer ID         Country  \n",
       "179403 -53594.36          NaN  United Kingdom  \n",
       "276274 -44031.79          NaN  United Kingdom  \n",
       "403472 -38925.87          NaN  United Kingdom  "
      ]
     },
     "execution_count": 107,
     "metadata": {},
     "output_type": "execute_result"
    }
   ],
   "source": [
    "df[df['Price'] < 0].head()"
   ]
  },
  {
   "cell_type": "code",
   "execution_count": 108,
   "id": "0319cfaf",
   "metadata": {},
   "outputs": [
    {
     "name": "stdout",
     "output_type": "stream",
     "text": [
      "Number of of transactions with negative quantity value among non cancelled transactions: 2121\n",
      "Number of of transactions with zero price and negative quantity 2121\n",
      "Percentage of cancelled transactions: 1.94 %\n",
      "Precentage of transactions with zero or negative price 0.7 %\n"
     ]
    }
   ],
   "source": [
    "d = df[~df['Invoice'].astype(str).str.contains('C')]  \n",
    "print(\"Number of of transactions with negative quantity value among non cancelled transactions:\" ,len(d[d['Quantity']<=0]))\n",
    "print(\"Number of of transactions with zero price and negative quantity\" ,len(d[(d['Quantity']<=0) & (d['Price'] == 0)]))\n",
    "\n",
    "\n",
    "print(\"Percentage of cancelled transactions:\" , round(len(cancel_trans)/len(df)*100, 2),\"%\")\n",
    "print(\"Precentage of transactions with zero or negative price\" ,round(len(df[df['Price']<=0])/len(df)*100, 2),\"%\")"
   ]
  },
  {
   "cell_type": "code",
   "execution_count": 109,
   "id": "84478cc3",
   "metadata": {},
   "outputs": [],
   "source": [
    "data = df[(df['Price'] > 0) & (df['Quantity']>0)]"
   ]
  },
  {
   "cell_type": "code",
   "execution_count": 110,
   "id": "af743faf",
   "metadata": {},
   "outputs": [
    {
     "name": "stdout",
     "output_type": "stream",
     "text": [
      "<class 'pandas.core.frame.DataFrame'>\n",
      "Int64Index: 511566 entries, 0 to 525460\n",
      "Data columns (total 8 columns):\n",
      " #   Column       Non-Null Count   Dtype         \n",
      "---  ------       --------------   -----         \n",
      " 0   Invoice      511566 non-null  object        \n",
      " 1   StockCode    511566 non-null  object        \n",
      " 2   Description  511566 non-null  object        \n",
      " 3   Quantity     511566 non-null  int64         \n",
      " 4   InvoiceDate  511566 non-null  datetime64[ns]\n",
      " 5   Price        511566 non-null  float64       \n",
      " 6   Customer ID  407664 non-null  float64       \n",
      " 7   Country      511566 non-null  object        \n",
      "dtypes: datetime64[ns](1), float64(2), int64(1), object(4)\n",
      "memory usage: 35.1+ MB\n"
     ]
    }
   ],
   "source": [
    "data.info()"
   ]
  },
  {
   "cell_type": "markdown",
   "id": "702d10c7",
   "metadata": {},
   "source": [
    "### * Duplicates *"
   ]
  },
  {
   "cell_type": "code",
   "execution_count": 111,
   "id": "2720628d",
   "metadata": {},
   "outputs": [
    {
     "name": "stdout",
     "output_type": "stream",
     "text": [
      "Num of duplicated transactions:  6835\n"
     ]
    }
   ],
   "source": [
    "print(\"Num of duplicated transactions: \", len(data[data.duplicated()]))\n",
    "#print(\"Number of duplicated transactions:\", len(data[data.duplicated()]))"
   ]
  },
  {
   "cell_type": "code",
   "execution_count": 112,
   "id": "58b6ece6",
   "metadata": {},
   "outputs": [
    {
     "name": "stderr",
     "output_type": "stream",
     "text": [
      "/tmp/ipykernel_6689/3807336157.py:1: SettingWithCopyWarning: \n",
      "A value is trying to be set on a copy of a slice from a DataFrame\n",
      "\n",
      "See the caveats in the documentation: https://pandas.pydata.org/pandas-docs/stable/user_guide/indexing.html#returning-a-view-versus-a-copy\n",
      "  data.drop_duplicates(inplace = True)\n"
     ]
    }
   ],
   "source": [
    "data.drop_duplicates(inplace = True)"
   ]
  },
  {
   "cell_type": "code",
   "execution_count": 113,
   "id": "6bb238bc",
   "metadata": {},
   "outputs": [],
   "source": [
    "data = data.dropna(subset=['Customer ID'])"
   ]
  },
  {
   "cell_type": "markdown",
   "id": "77b9dcb0",
   "metadata": {},
   "source": [
    "### * Null Values *"
   ]
  },
  {
   "cell_type": "code",
   "execution_count": 114,
   "id": "9c7619a0",
   "metadata": {},
   "outputs": [
    {
     "data": {
      "text/plain": [
       "Invoice        0\n",
       "StockCode      0\n",
       "Description    0\n",
       "Quantity       0\n",
       "InvoiceDate    0\n",
       "Price          0\n",
       "Customer ID    0\n",
       "Country        0\n",
       "dtype: int64"
      ]
     },
     "execution_count": 114,
     "metadata": {},
     "output_type": "execute_result"
    }
   ],
   "source": [
    "data.isnull().sum()"
   ]
  },
  {
   "cell_type": "code",
   "execution_count": 115,
   "id": "c9b8261c",
   "metadata": {},
   "outputs": [
    {
     "data": {
      "text/html": [
       "<div>\n",
       "<style scoped>\n",
       "    .dataframe tbody tr th:only-of-type {\n",
       "        vertical-align: middle;\n",
       "    }\n",
       "\n",
       "    .dataframe tbody tr th {\n",
       "        vertical-align: top;\n",
       "    }\n",
       "\n",
       "    .dataframe thead th {\n",
       "        text-align: right;\n",
       "    }\n",
       "</style>\n",
       "<table border=\"1\" class=\"dataframe\">\n",
       "  <thead>\n",
       "    <tr style=\"text-align: right;\">\n",
       "      <th></th>\n",
       "      <th>Invoice</th>\n",
       "      <th>StockCode</th>\n",
       "      <th>Description</th>\n",
       "      <th>Quantity</th>\n",
       "      <th>InvoiceDate</th>\n",
       "      <th>Price</th>\n",
       "      <th>Customer ID</th>\n",
       "      <th>Country</th>\n",
       "    </tr>\n",
       "  </thead>\n",
       "  <tbody>\n",
       "    <tr>\n",
       "      <th>0</th>\n",
       "      <td>489434</td>\n",
       "      <td>85048</td>\n",
       "      <td>15CM CHRISTMAS GLASS BALL 20 LIGHTS</td>\n",
       "      <td>12</td>\n",
       "      <td>2009-12-01 07:45:00</td>\n",
       "      <td>6.95</td>\n",
       "      <td>13085.0</td>\n",
       "      <td>United Kingdom</td>\n",
       "    </tr>\n",
       "    <tr>\n",
       "      <th>1</th>\n",
       "      <td>489434</td>\n",
       "      <td>79323P</td>\n",
       "      <td>PINK CHERRY LIGHTS</td>\n",
       "      <td>12</td>\n",
       "      <td>2009-12-01 07:45:00</td>\n",
       "      <td>6.75</td>\n",
       "      <td>13085.0</td>\n",
       "      <td>United Kingdom</td>\n",
       "    </tr>\n",
       "    <tr>\n",
       "      <th>2</th>\n",
       "      <td>489434</td>\n",
       "      <td>79323W</td>\n",
       "      <td>WHITE CHERRY LIGHTS</td>\n",
       "      <td>12</td>\n",
       "      <td>2009-12-01 07:45:00</td>\n",
       "      <td>6.75</td>\n",
       "      <td>13085.0</td>\n",
       "      <td>United Kingdom</td>\n",
       "    </tr>\n",
       "    <tr>\n",
       "      <th>3</th>\n",
       "      <td>489434</td>\n",
       "      <td>22041</td>\n",
       "      <td>RECORD FRAME 7\" SINGLE SIZE</td>\n",
       "      <td>48</td>\n",
       "      <td>2009-12-01 07:45:00</td>\n",
       "      <td>2.10</td>\n",
       "      <td>13085.0</td>\n",
       "      <td>United Kingdom</td>\n",
       "    </tr>\n",
       "    <tr>\n",
       "      <th>4</th>\n",
       "      <td>489434</td>\n",
       "      <td>21232</td>\n",
       "      <td>STRAWBERRY CERAMIC TRINKET BOX</td>\n",
       "      <td>24</td>\n",
       "      <td>2009-12-01 07:45:00</td>\n",
       "      <td>1.25</td>\n",
       "      <td>13085.0</td>\n",
       "      <td>United Kingdom</td>\n",
       "    </tr>\n",
       "  </tbody>\n",
       "</table>\n",
       "</div>"
      ],
      "text/plain": [
       "  Invoice StockCode                          Description  Quantity  \\\n",
       "0  489434     85048  15CM CHRISTMAS GLASS BALL 20 LIGHTS        12   \n",
       "1  489434    79323P                   PINK CHERRY LIGHTS        12   \n",
       "2  489434    79323W                  WHITE CHERRY LIGHTS        12   \n",
       "3  489434     22041         RECORD FRAME 7\" SINGLE SIZE         48   \n",
       "4  489434     21232       STRAWBERRY CERAMIC TRINKET BOX        24   \n",
       "\n",
       "          InvoiceDate  Price  Customer ID         Country  \n",
       "0 2009-12-01 07:45:00   6.95      13085.0  United Kingdom  \n",
       "1 2009-12-01 07:45:00   6.75      13085.0  United Kingdom  \n",
       "2 2009-12-01 07:45:00   6.75      13085.0  United Kingdom  \n",
       "3 2009-12-01 07:45:00   2.10      13085.0  United Kingdom  \n",
       "4 2009-12-01 07:45:00   1.25      13085.0  United Kingdom  "
      ]
     },
     "execution_count": 115,
     "metadata": {},
     "output_type": "execute_result"
    }
   ],
   "source": [
    "data.head()"
   ]
  },
  {
   "cell_type": "markdown",
   "id": "e0f7b8a5",
   "metadata": {},
   "source": [
    "## <center> Exploring Each Attribute"
   ]
  },
  {
   "cell_type": "markdown",
   "id": "f0cf3fc2",
   "metadata": {},
   "source": [
    "### * Item Description *"
   ]
  },
  {
   "cell_type": "code",
   "execution_count": 116,
   "id": "e70fa3a3",
   "metadata": {},
   "outputs": [
    {
     "name": "stdout",
     "output_type": "stream",
     "text": [
      "Num of unique descriptions:  4444\n",
      "Num of unique descriptions: 4403\n"
     ]
    }
   ],
   "source": [
    "data['Description'] = data['Description'].str.lower()\n",
    "print(\"Num of unique descriptions: \", len(data['Description'].unique().tolist()))\n",
    "data['Description'] = data['Description'].replace(to_replace=r'[^\\w\\s]', value='', regex=True) \n",
    "print(\"Num of unique descriptions:\", len(data['Description'].unique().tolist()))"
   ]
  },
  {
   "cell_type": "markdown",
   "id": "5eda1971",
   "metadata": {},
   "source": [
    "### * StockCode *"
   ]
  },
  {
   "cell_type": "code",
   "execution_count": 117,
   "id": "daea5f8d",
   "metadata": {},
   "outputs": [
    {
     "data": {
      "text/plain": [
       "4006"
      ]
     },
     "execution_count": 117,
     "metadata": {},
     "output_type": "execute_result"
    }
   ],
   "source": [
    "data = data.loc[data['StockCode'].astype(str).str[0:4].str.isdigit()]\n",
    "len(data['StockCode'].unique().tolist())"
   ]
  },
  {
   "cell_type": "markdown",
   "id": "24ffb1c0",
   "metadata": {},
   "source": [
    "### * DateTime *"
   ]
  },
  {
   "cell_type": "code",
   "execution_count": 118,
   "id": "4ce93b97",
   "metadata": {},
   "outputs": [
    {
     "data": {
      "text/html": [
       "<div>\n",
       "<style scoped>\n",
       "    .dataframe tbody tr th:only-of-type {\n",
       "        vertical-align: middle;\n",
       "    }\n",
       "\n",
       "    .dataframe tbody tr th {\n",
       "        vertical-align: top;\n",
       "    }\n",
       "\n",
       "    .dataframe thead th {\n",
       "        text-align: right;\n",
       "    }\n",
       "</style>\n",
       "<table border=\"1\" class=\"dataframe\">\n",
       "  <thead>\n",
       "    <tr style=\"text-align: right;\">\n",
       "      <th></th>\n",
       "      <th>Invoice</th>\n",
       "      <th>StockCode</th>\n",
       "      <th>Description</th>\n",
       "      <th>Quantity</th>\n",
       "      <th>InvoiceDate</th>\n",
       "      <th>Price</th>\n",
       "      <th>Customer ID</th>\n",
       "      <th>Country</th>\n",
       "      <th>month</th>\n",
       "      <th>year</th>\n",
       "      <th>WeekDay</th>\n",
       "      <th>month_year</th>\n",
       "      <th>hour</th>\n",
       "    </tr>\n",
       "  </thead>\n",
       "  <tbody>\n",
       "    <tr>\n",
       "      <th>0</th>\n",
       "      <td>489434</td>\n",
       "      <td>85048</td>\n",
       "      <td>15cm christmas glass ball 20 lights</td>\n",
       "      <td>12</td>\n",
       "      <td>2009-12-01 07:45:00</td>\n",
       "      <td>6.95</td>\n",
       "      <td>13085.0</td>\n",
       "      <td>United Kingdom</td>\n",
       "      <td>12</td>\n",
       "      <td>2009</td>\n",
       "      <td>Tuesday</td>\n",
       "      <td>2009-12-01</td>\n",
       "      <td>7</td>\n",
       "    </tr>\n",
       "    <tr>\n",
       "      <th>1</th>\n",
       "      <td>489434</td>\n",
       "      <td>79323P</td>\n",
       "      <td>pink cherry lights</td>\n",
       "      <td>12</td>\n",
       "      <td>2009-12-01 07:45:00</td>\n",
       "      <td>6.75</td>\n",
       "      <td>13085.0</td>\n",
       "      <td>United Kingdom</td>\n",
       "      <td>12</td>\n",
       "      <td>2009</td>\n",
       "      <td>Tuesday</td>\n",
       "      <td>2009-12-01</td>\n",
       "      <td>7</td>\n",
       "    </tr>\n",
       "    <tr>\n",
       "      <th>2</th>\n",
       "      <td>489434</td>\n",
       "      <td>79323W</td>\n",
       "      <td>white cherry lights</td>\n",
       "      <td>12</td>\n",
       "      <td>2009-12-01 07:45:00</td>\n",
       "      <td>6.75</td>\n",
       "      <td>13085.0</td>\n",
       "      <td>United Kingdom</td>\n",
       "      <td>12</td>\n",
       "      <td>2009</td>\n",
       "      <td>Tuesday</td>\n",
       "      <td>2009-12-01</td>\n",
       "      <td>7</td>\n",
       "    </tr>\n",
       "    <tr>\n",
       "      <th>3</th>\n",
       "      <td>489434</td>\n",
       "      <td>22041</td>\n",
       "      <td>record frame 7 single size</td>\n",
       "      <td>48</td>\n",
       "      <td>2009-12-01 07:45:00</td>\n",
       "      <td>2.10</td>\n",
       "      <td>13085.0</td>\n",
       "      <td>United Kingdom</td>\n",
       "      <td>12</td>\n",
       "      <td>2009</td>\n",
       "      <td>Tuesday</td>\n",
       "      <td>2009-12-01</td>\n",
       "      <td>7</td>\n",
       "    </tr>\n",
       "    <tr>\n",
       "      <th>4</th>\n",
       "      <td>489434</td>\n",
       "      <td>21232</td>\n",
       "      <td>strawberry ceramic trinket box</td>\n",
       "      <td>24</td>\n",
       "      <td>2009-12-01 07:45:00</td>\n",
       "      <td>1.25</td>\n",
       "      <td>13085.0</td>\n",
       "      <td>United Kingdom</td>\n",
       "      <td>12</td>\n",
       "      <td>2009</td>\n",
       "      <td>Tuesday</td>\n",
       "      <td>2009-12-01</td>\n",
       "      <td>7</td>\n",
       "    </tr>\n",
       "  </tbody>\n",
       "</table>\n",
       "</div>"
      ],
      "text/plain": [
       "  Invoice StockCode                          Description  Quantity  \\\n",
       "0  489434     85048  15cm christmas glass ball 20 lights        12   \n",
       "1  489434    79323P                   pink cherry lights        12   \n",
       "2  489434    79323W                  white cherry lights        12   \n",
       "3  489434     22041          record frame 7 single size         48   \n",
       "4  489434     21232       strawberry ceramic trinket box        24   \n",
       "\n",
       "          InvoiceDate  Price  Customer ID         Country  month  year  \\\n",
       "0 2009-12-01 07:45:00   6.95      13085.0  United Kingdom     12  2009   \n",
       "1 2009-12-01 07:45:00   6.75      13085.0  United Kingdom     12  2009   \n",
       "2 2009-12-01 07:45:00   6.75      13085.0  United Kingdom     12  2009   \n",
       "3 2009-12-01 07:45:00   2.10      13085.0  United Kingdom     12  2009   \n",
       "4 2009-12-01 07:45:00   1.25      13085.0  United Kingdom     12  2009   \n",
       "\n",
       "   WeekDay month_year  hour  \n",
       "0  Tuesday 2009-12-01     7  \n",
       "1  Tuesday 2009-12-01     7  \n",
       "2  Tuesday 2009-12-01     7  \n",
       "3  Tuesday 2009-12-01     7  \n",
       "4  Tuesday 2009-12-01     7  "
      ]
     },
     "execution_count": 118,
     "metadata": {},
     "output_type": "execute_result"
    }
   ],
   "source": [
    "data['month'] = data['InvoiceDate'].dt.month\n",
    "data['year'] = data['InvoiceDate'].dt.year\n",
    "data['WeekDay'] = data['InvoiceDate'].dt.day_name()\n",
    "data['month_year'] = pd.to_datetime(data[['year', 'month']].assign(Day=1))\n",
    "data['hour'] = data['InvoiceDate'].dt.hour\n",
    "data.head()"
   ]
  },
  {
   "cell_type": "code",
   "execution_count": 119,
   "id": "bf9c6078",
   "metadata": {},
   "outputs": [
    {
     "name": "stdout",
     "output_type": "stream",
     "text": [
      "<class 'pandas.core.frame.DataFrame'>\n",
      "Int64Index: 399552 entries, 0 to 525460\n",
      "Data columns (total 14 columns):\n",
      " #   Column       Non-Null Count   Dtype         \n",
      "---  ------       --------------   -----         \n",
      " 0   Invoice      399552 non-null  object        \n",
      " 1   StockCode    399552 non-null  object        \n",
      " 2   Description  399552 non-null  object        \n",
      " 3   Quantity     399552 non-null  int64         \n",
      " 4   InvoiceDate  399552 non-null  datetime64[ns]\n",
      " 5   Price        399552 non-null  float64       \n",
      " 6   Customer ID  399552 non-null  float64       \n",
      " 7   Country      399552 non-null  object        \n",
      " 8   month        399552 non-null  int64         \n",
      " 9   year         399552 non-null  int64         \n",
      " 10  WeekDay      399552 non-null  object        \n",
      " 11  month_year   399552 non-null  datetime64[ns]\n",
      " 12  hour         399552 non-null  int64         \n",
      " 13  revenue      399552 non-null  float64       \n",
      "dtypes: datetime64[ns](2), float64(3), int64(4), object(5)\n",
      "memory usage: 45.7+ MB\n"
     ]
    }
   ],
   "source": [
    "data['revenue'] = data['Price'] * data['Quantity']\n",
    "data.info()"
   ]
  },
  {
   "cell_type": "code",
   "execution_count": 125,
   "id": "e7de16d7",
   "metadata": {},
   "outputs": [
    {
     "data": {
      "image/png": "[encoded data removed]",
      "text/plain": [
       "<Figure size 432x288 with 1 Axes>"
      ]
     },
     "metadata": {
      "needs_background": "light"
     },
     "output_type": "display_data"
    }
   ],
   "source": [
    "plot = pd.DataFrame(data.groupby(['month_year'])['Invoice'].count()).reset_index()\n",
    "plot2 = pd.DataFrame(data.groupby(['WeekDay'])['Invoice'].count())\n",
    "plot3 = pd.DataFrame(data.groupby(['hour'])['Invoice'].count()).reset_index()\n",
    "plot4 = pd.DataFrame(data.groupby(['month_year'])['revenue'].mean()).reset_index()\n",
    "plot5 = pd.DataFrame(data.groupby(['month_year'])['revenue'].sum()).reset_index()\n",
    "plot2 = plot2.reindex(['Monday', 'Tuesday', 'Wednesday', 'Thursday', 'Friday', 'Sunday']).reset_index()\n",
    "ax = sns.lineplot(x=\"month_year\", y=\"Invoice\", data = plot).set(title='Monthly trend of Orders')\n"
   ]
  },
  {
   "cell_type": "code",
   "execution_count": 126,
   "id": "9958447a",
   "metadata": {},
   "outputs": [
    {
     "data": {
      "image/png": "[encoded data removed]",
      "text/plain": [
       "<Figure size 432x288 with 1 Axes>"
      ]
     },
     "metadata": {
      "needs_background": "light"
     },
     "output_type": "display_data"
    }
   ],
   "source": [
    "ax = sns.lineplot(x=\"WeekDay\", y=\"Invoice\", data = plot2).set(title='Daily trend of Orders')\n"
   ]
  },
  {
   "cell_type": "code",
   "execution_count": 127,
   "id": "3bee938f",
   "metadata": {},
   "outputs": [
    {
     "data": {
      "image/png": "[encoded data removed]",
      "text/plain": [
       "<Figure size 432x288 with 1 Axes>"
      ]
     },
     "metadata": {
      "needs_background": "light"
     },
     "output_type": "display_data"
    }
   ],
   "source": [
    "ax = sns.lineplot(x=\"hour\", y=\"Invoice\", data = plot3).set(title='Hourly trend of Orders')\n"
   ]
  },
  {
   "cell_type": "code",
   "execution_count": 128,
   "id": "ec761b64",
   "metadata": {},
   "outputs": [
    {
     "data": {
      "image/png": "[encoded data removed]",
      "text/plain": [
       "<Figure size 432x288 with 1 Axes>"
      ]
     },
     "metadata": {
      "needs_background": "light"
     },
     "output_type": "display_data"
    }
   ],
   "source": [
    "ax = sns.lineplot(x = 'month_year', y='revenue', data = plot5).set(title='Monthly Revenue Trend')"
   ]
  },
  {
   "cell_type": "markdown",
   "id": "2b5c59f6",
   "metadata": {},
   "source": [
    "<b>Observations</b>\n",
    "<li>At the end of year, purchasing is higher.</li>\n",
    "<li>Shopping rate on weekend is relatively higher as compared to week days.</li>\n",
    "<li>People rush towards shopping after noon.</li>\n",
    "<li>Revenue generated in last months of year is greater because of high shopping rate.</li>\n"
   ]
  },
  {
   "cell_type": "markdown",
   "id": "d4c3c99a",
   "metadata": {},
   "source": [
    "### * Price *"
   ]
  },
  {
   "cell_type": "code",
   "execution_count": 129,
   "id": "3e9bc612",
   "metadata": {},
   "outputs": [],
   "source": [
    "item = data[data['Price']>50]['Description'].unique().tolist()"
   ]
  },
  {
   "cell_type": "code",
   "execution_count": 130,
   "id": "23d7b699",
   "metadata": {},
   "outputs": [
    {
     "name": "stdout",
     "output_type": "stream",
     "text": [
      "Items > 50% consumption:  19\n"
     ]
    }
   ],
   "source": [
    "print(\"Items > 50% consumption: \", len(item))"
   ]
  },
  {
   "cell_type": "markdown",
   "id": "d51ff74f",
   "metadata": {},
   "source": [
    "### * Country *"
   ]
  },
  {
   "cell_type": "code",
   "execution_count": 131,
   "id": "ceeeb7e4",
   "metadata": {},
   "outputs": [
    {
     "name": "stdout",
     "output_type": "stream",
     "text": [
      "Transactions made in  37  countries\n"
     ]
    }
   ],
   "source": [
    "print(\"Transactions made in \", len(data['Country'].unique().tolist()), \" countries\")"
   ]
  },
  {
   "cell_type": "code",
   "execution_count": 132,
   "id": "e1ac1cda",
   "metadata": {},
   "outputs": [
    {
     "data": {
      "image/png": "[encoded data removed]",
      "text/plain": [
       "<Figure size 576x273.6 with 1 Axes>"
      ]
     },
     "metadata": {
      "needs_background": "light"
     },
     "output_type": "display_data"
    }
   ],
   "source": [
    "plot6 = pd.DataFrame(data.groupby(['Country'])['revenue'].sum()).reset_index()\n",
    "plot6 = plot6.sort_values(['revenue']).reset_index(drop=True)\n",
    "plot7 = pd.DataFrame(data.groupby(['Country'])['revenue'].count()).reset_index()\n",
    "plot7 = plot7.sort_values(['revenue']).reset_index(drop=True)\n",
    "\n",
    "fig, ax = plt.subplots()\n",
    "fig.set_size_inches(8, 3.8)\n",
    "ax = sns.barplot(x = 'Country', y='revenue', data=plot6.tail(10),estimator=max,ax=ax)\n",
    "ax.set_xticklabels(ax.get_xticklabels(), rotation=47, ha=\"right\")\n",
    "plt.title(\"Countries generating Revenue\")\n",
    "plt.show()\n",
    "\n"
   ]
  },
  {
   "cell_type": "code",
   "execution_count": 133,
   "id": "0a8bb227",
   "metadata": {},
   "outputs": [
    {
     "data": {
      "text/html": [
       "<div>\n",
       "<style scoped>\n",
       "    .dataframe tbody tr th:only-of-type {\n",
       "        vertical-align: middle;\n",
       "    }\n",
       "\n",
       "    .dataframe tbody tr th {\n",
       "        vertical-align: top;\n",
       "    }\n",
       "\n",
       "    .dataframe thead th {\n",
       "        text-align: right;\n",
       "    }\n",
       "</style>\n",
       "<table border=\"1\" class=\"dataframe\">\n",
       "  <thead>\n",
       "    <tr style=\"text-align: right;\">\n",
       "      <th></th>\n",
       "      <th>Invoice</th>\n",
       "      <th>StockCode</th>\n",
       "      <th>Description</th>\n",
       "      <th>Quantity</th>\n",
       "      <th>InvoiceDate</th>\n",
       "      <th>Price</th>\n",
       "      <th>Customer ID</th>\n",
       "      <th>Country</th>\n",
       "      <th>month</th>\n",
       "      <th>year</th>\n",
       "      <th>WeekDay</th>\n",
       "      <th>month_year</th>\n",
       "      <th>hour</th>\n",
       "      <th>revenue</th>\n",
       "    </tr>\n",
       "  </thead>\n",
       "  <tbody>\n",
       "    <tr>\n",
       "      <th>0</th>\n",
       "      <td>489434</td>\n",
       "      <td>85048</td>\n",
       "      <td>15cm christmas glass ball 20 lights</td>\n",
       "      <td>12</td>\n",
       "      <td>2009-12-01 07:45:00</td>\n",
       "      <td>6.95</td>\n",
       "      <td>13085.0</td>\n",
       "      <td>United Kingdom</td>\n",
       "      <td>12</td>\n",
       "      <td>2009</td>\n",
       "      <td>Tuesday</td>\n",
       "      <td>2009-12-01</td>\n",
       "      <td>7</td>\n",
       "      <td>83.4</td>\n",
       "    </tr>\n",
       "    <tr>\n",
       "      <th>1</th>\n",
       "      <td>489434</td>\n",
       "      <td>79323P</td>\n",
       "      <td>pink cherry lights</td>\n",
       "      <td>12</td>\n",
       "      <td>2009-12-01 07:45:00</td>\n",
       "      <td>6.75</td>\n",
       "      <td>13085.0</td>\n",
       "      <td>United Kingdom</td>\n",
       "      <td>12</td>\n",
       "      <td>2009</td>\n",
       "      <td>Tuesday</td>\n",
       "      <td>2009-12-01</td>\n",
       "      <td>7</td>\n",
       "      <td>81.0</td>\n",
       "    </tr>\n",
       "    <tr>\n",
       "      <th>2</th>\n",
       "      <td>489434</td>\n",
       "      <td>79323W</td>\n",
       "      <td>white cherry lights</td>\n",
       "      <td>12</td>\n",
       "      <td>2009-12-01 07:45:00</td>\n",
       "      <td>6.75</td>\n",
       "      <td>13085.0</td>\n",
       "      <td>United Kingdom</td>\n",
       "      <td>12</td>\n",
       "      <td>2009</td>\n",
       "      <td>Tuesday</td>\n",
       "      <td>2009-12-01</td>\n",
       "      <td>7</td>\n",
       "      <td>81.0</td>\n",
       "    </tr>\n",
       "    <tr>\n",
       "      <th>3</th>\n",
       "      <td>489434</td>\n",
       "      <td>22041</td>\n",
       "      <td>record frame 7 single size</td>\n",
       "      <td>48</td>\n",
       "      <td>2009-12-01 07:45:00</td>\n",
       "      <td>2.10</td>\n",
       "      <td>13085.0</td>\n",
       "      <td>United Kingdom</td>\n",
       "      <td>12</td>\n",
       "      <td>2009</td>\n",
       "      <td>Tuesday</td>\n",
       "      <td>2009-12-01</td>\n",
       "      <td>7</td>\n",
       "      <td>100.8</td>\n",
       "    </tr>\n",
       "    <tr>\n",
       "      <th>4</th>\n",
       "      <td>489434</td>\n",
       "      <td>21232</td>\n",
       "      <td>strawberry ceramic trinket box</td>\n",
       "      <td>24</td>\n",
       "      <td>2009-12-01 07:45:00</td>\n",
       "      <td>1.25</td>\n",
       "      <td>13085.0</td>\n",
       "      <td>United Kingdom</td>\n",
       "      <td>12</td>\n",
       "      <td>2009</td>\n",
       "      <td>Tuesday</td>\n",
       "      <td>2009-12-01</td>\n",
       "      <td>7</td>\n",
       "      <td>30.0</td>\n",
       "    </tr>\n",
       "  </tbody>\n",
       "</table>\n",
       "</div>"
      ],
      "text/plain": [
       "  Invoice StockCode                          Description  Quantity  \\\n",
       "0  489434     85048  15cm christmas glass ball 20 lights        12   \n",
       "1  489434    79323P                   pink cherry lights        12   \n",
       "2  489434    79323W                  white cherry lights        12   \n",
       "3  489434     22041          record frame 7 single size         48   \n",
       "4  489434     21232       strawberry ceramic trinket box        24   \n",
       "\n",
       "          InvoiceDate  Price  Customer ID         Country  month  year  \\\n",
       "0 2009-12-01 07:45:00   6.95      13085.0  United Kingdom     12  2009   \n",
       "1 2009-12-01 07:45:00   6.75      13085.0  United Kingdom     12  2009   \n",
       "2 2009-12-01 07:45:00   6.75      13085.0  United Kingdom     12  2009   \n",
       "3 2009-12-01 07:45:00   2.10      13085.0  United Kingdom     12  2009   \n",
       "4 2009-12-01 07:45:00   1.25      13085.0  United Kingdom     12  2009   \n",
       "\n",
       "   WeekDay month_year  hour  revenue  \n",
       "0  Tuesday 2009-12-01     7     83.4  \n",
       "1  Tuesday 2009-12-01     7     81.0  \n",
       "2  Tuesday 2009-12-01     7     81.0  \n",
       "3  Tuesday 2009-12-01     7    100.8  \n",
       "4  Tuesday 2009-12-01     7     30.0  "
      ]
     },
     "execution_count": 133,
     "metadata": {},
     "output_type": "execute_result"
    }
   ],
   "source": [
    "df_uk = data[data['Country'] == \"United Kingdom\"]\n",
    "df_uk.head()\n"
   ]
  },
  {
   "cell_type": "code",
   "execution_count": 134,
   "id": "6d01bbea",
   "metadata": {},
   "outputs": [
    {
     "name": "stderr",
     "output_type": "stream",
     "text": [
      "/tmp/ipykernel_6689/2802060990.py:3: SettingWithCopyWarning: \n",
      "A value is trying to be set on a copy of a slice from a DataFrame.\n",
      "Try using .loc[row_indexer,col_indexer] = value instead\n",
      "\n",
      "See the caveats in the documentation: https://pandas.pydata.org/pandas-docs/stable/user_guide/indexing.html#returning-a-view-versus-a-copy\n",
      "  df_uk['InvoiceDate'] = pd.to_datetime(df_uk['InvoiceDate'])\n"
     ]
    }
   ],
   "source": [
    "import datetime as dt\n",
    "presence = dt.datetime(2011,12,10)\n",
    "df_uk['InvoiceDate'] = pd.to_datetime(df_uk['InvoiceDate'])"
   ]
  },
  {
   "cell_type": "code",
   "execution_count": 135,
   "id": "4ef96904",
   "metadata": {},
   "outputs": [
    {
     "data": {
      "text/html": [
       "<div>\n",
       "<style scoped>\n",
       "    .dataframe tbody tr th:only-of-type {\n",
       "        vertical-align: middle;\n",
       "    }\n",
       "\n",
       "    .dataframe tbody tr th {\n",
       "        vertical-align: top;\n",
       "    }\n",
       "\n",
       "    .dataframe thead th {\n",
       "        text-align: right;\n",
       "    }\n",
       "</style>\n",
       "<table border=\"1\" class=\"dataframe\">\n",
       "  <thead>\n",
       "    <tr style=\"text-align: right;\">\n",
       "      <th></th>\n",
       "      <th>recency</th>\n",
       "      <th>frequency</th>\n",
       "      <th>monetary_value</th>\n",
       "    </tr>\n",
       "    <tr>\n",
       "      <th>Customer ID</th>\n",
       "      <th></th>\n",
       "      <th></th>\n",
       "      <th></th>\n",
       "    </tr>\n",
       "  </thead>\n",
       "  <tbody>\n",
       "    <tr>\n",
       "      <th>12346.0</th>\n",
       "      <td>529</td>\n",
       "      <td>24</td>\n",
       "      <td>169.36</td>\n",
       "    </tr>\n",
       "    <tr>\n",
       "      <th>12608.0</th>\n",
       "      <td>404</td>\n",
       "      <td>16</td>\n",
       "      <td>415.79</td>\n",
       "    </tr>\n",
       "    <tr>\n",
       "      <th>12745.0</th>\n",
       "      <td>486</td>\n",
       "      <td>22</td>\n",
       "      <td>723.85</td>\n",
       "    </tr>\n",
       "    <tr>\n",
       "      <th>12746.0</th>\n",
       "      <td>540</td>\n",
       "      <td>17</td>\n",
       "      <td>254.55</td>\n",
       "    </tr>\n",
       "    <tr>\n",
       "      <th>12747.0</th>\n",
       "      <td>369</td>\n",
       "      <td>153</td>\n",
       "      <td>5061.03</td>\n",
       "    </tr>\n",
       "  </tbody>\n",
       "</table>\n",
       "</div>"
      ],
      "text/plain": [
       "             recency  frequency  monetary_value\n",
       "Customer ID                                    \n",
       "12346.0          529         24          169.36\n",
       "12608.0          404         16          415.79\n",
       "12745.0          486         22          723.85\n",
       "12746.0          540         17          254.55\n",
       "12747.0          369        153         5061.03"
      ]
     },
     "execution_count": 135,
     "metadata": {},
     "output_type": "execute_result"
    }
   ],
   "source": [
    "rfm = df_uk.groupby('Customer ID').agg({'InvoiceDate': lambda x: (presence - x.max()).days, 'Invoice': lambda x: len(x), 'revenue': lambda x: x.sum()})\n",
    "rfm['InvoiceDate'] = rfm['InvoiceDate'].astype(int)\n",
    "rfm.rename(columns={'InvoiceDate': 'recency', \n",
    "                         'Invoice': 'frequency', \n",
    "                         'revenue': 'monetary_value'}, inplace=True)\n",
    "rfm.head()"
   ]
  },
  {
   "cell_type": "code",
   "execution_count": 136,
   "id": "10062455",
   "metadata": {},
   "outputs": [
    {
     "data": {
      "text/html": [
       "<div>\n",
       "<style scoped>\n",
       "    .dataframe tbody tr th:only-of-type {\n",
       "        vertical-align: middle;\n",
       "    }\n",
       "\n",
       "    .dataframe tbody tr th {\n",
       "        vertical-align: top;\n",
       "    }\n",
       "\n",
       "    .dataframe thead th {\n",
       "        text-align: right;\n",
       "    }\n",
       "</style>\n",
       "<table border=\"1\" class=\"dataframe\">\n",
       "  <thead>\n",
       "    <tr style=\"text-align: right;\">\n",
       "      <th></th>\n",
       "      <th>recency</th>\n",
       "      <th>frequency</th>\n",
       "      <th>monetary_value</th>\n",
       "      <th>R_Quartile</th>\n",
       "      <th>F_Quartile</th>\n",
       "      <th>M_Quartile</th>\n",
       "      <th>RFMClass</th>\n",
       "    </tr>\n",
       "    <tr>\n",
       "      <th>Customer ID</th>\n",
       "      <th></th>\n",
       "      <th></th>\n",
       "      <th></th>\n",
       "      <th></th>\n",
       "      <th></th>\n",
       "      <th></th>\n",
       "      <th></th>\n",
       "    </tr>\n",
       "  </thead>\n",
       "  <tbody>\n",
       "    <tr>\n",
       "      <th>12346.0</th>\n",
       "      <td>529</td>\n",
       "      <td>24</td>\n",
       "      <td>169.36</td>\n",
       "      <td>4</td>\n",
       "      <td>3</td>\n",
       "      <td>4</td>\n",
       "      <td>434</td>\n",
       "    </tr>\n",
       "    <tr>\n",
       "      <th>12608.0</th>\n",
       "      <td>404</td>\n",
       "      <td>16</td>\n",
       "      <td>415.79</td>\n",
       "      <td>2</td>\n",
       "      <td>4</td>\n",
       "      <td>3</td>\n",
       "      <td>243</td>\n",
       "    </tr>\n",
       "    <tr>\n",
       "      <th>12745.0</th>\n",
       "      <td>486</td>\n",
       "      <td>22</td>\n",
       "      <td>723.85</td>\n",
       "      <td>3</td>\n",
       "      <td>3</td>\n",
       "      <td>2</td>\n",
       "      <td>332</td>\n",
       "    </tr>\n",
       "    <tr>\n",
       "      <th>12746.0</th>\n",
       "      <td>540</td>\n",
       "      <td>17</td>\n",
       "      <td>254.55</td>\n",
       "      <td>4</td>\n",
       "      <td>4</td>\n",
       "      <td>4</td>\n",
       "      <td>444</td>\n",
       "    </tr>\n",
       "    <tr>\n",
       "      <th>12747.0</th>\n",
       "      <td>369</td>\n",
       "      <td>153</td>\n",
       "      <td>5061.03</td>\n",
       "      <td>1</td>\n",
       "      <td>1</td>\n",
       "      <td>1</td>\n",
       "      <td>111</td>\n",
       "    </tr>\n",
       "  </tbody>\n",
       "</table>\n",
       "</div>"
      ],
      "text/plain": [
       "             recency  frequency  monetary_value  R_Quartile  F_Quartile  \\\n",
       "Customer ID                                                               \n",
       "12346.0          529         24          169.36           4           3   \n",
       "12608.0          404         16          415.79           2           4   \n",
       "12745.0          486         22          723.85           3           3   \n",
       "12746.0          540         17          254.55           4           4   \n",
       "12747.0          369        153         5061.03           1           1   \n",
       "\n",
       "             M_Quartile RFMClass  \n",
       "Customer ID                       \n",
       "12346.0               4      434  \n",
       "12608.0               3      243  \n",
       "12745.0               2      332  \n",
       "12746.0               4      444  \n",
       "12747.0               1      111  "
      ]
     },
     "execution_count": 136,
     "metadata": {},
     "output_type": "execute_result"
    }
   ],
   "source": [
    "quantiles = rfm.quantile(q=[0.25,0.5,0.75])\n",
    "quantiles = quantiles.to_dict()\n",
    "\n",
    "rfm_segments= rfm\n",
    "\n",
    "def RClass(x,p,d):\n",
    "    if x <= d[p][0.25]:\n",
    "        return 1\n",
    "    elif x <= d[p][0.50]:\n",
    "        return 2\n",
    "    elif x <= d[p][0.75]: \n",
    "        return 3\n",
    "    else:\n",
    "        return 4\n",
    "    \n",
    "\n",
    "def FMClass(x,p,d):\n",
    "    if x <= d[p][0.25]:\n",
    "        return 4\n",
    "    elif x <= d[p][0.50]:\n",
    "        return 3\n",
    "    elif x <= d[p][0.75]: \n",
    "        return 2\n",
    "    else:\n",
    "        return 1\n",
    "    \n",
    "rfm_segments['R_Quartile'] = rfm_segments['recency'].apply(RClass, args=('recency',quantiles,))\n",
    "rfm_segments['F_Quartile'] = rfm_segments['frequency'].apply(FMClass, args=('frequency',quantiles,))\n",
    "rfm_segments['M_Quartile'] = rfm_segments['monetary_value'].apply(FMClass, args=('monetary_value',quantiles,))\n",
    "rfm_segments['RFMClass'] = rfm_segments.R_Quartile.map(str) \\\n",
    "                            + rfm_segments.F_Quartile.map(str) \\\n",
    "                            + rfm_segments.M_Quartile.map(str)\n",
    "\n",
    "rfm_segments.head()"
   ]
  },
  {
   "cell_type": "code",
   "execution_count": 143,
   "id": "dcbb8be3",
   "metadata": {},
   "outputs": [
    {
     "name": "stdout",
     "output_type": "stream",
     "text": [
      "Champions:  378 ( 9.56 %)\n",
      "______________________________ \n",
      "\n",
      "Loyal Customers:  979 ( 24.77 %)\n",
      "______________________________ \n",
      "\n",
      "Big Spenders:  988 ( 24.99 %)\n",
      "______________________________ \n",
      "\n",
      "About to Sleep:  140 ( 3.54 %)\n",
      "______________________________ \n",
      "\n",
      "Lost Customers:  348 ( 8.8 %)\n"
     ]
    }
   ],
   "source": [
    "print(\"Champions: \",len(rfm_segments[rfm_segments['RFMClass']=='111']), \"(\", round(len(rfm_segments[rfm_segments['RFMClass']=='111'])/len(rfm_segments)*100,2), \"%)\") \n",
    "print(\"______________________________ \\n\")\n",
    "print('Loyal Customers: ',len(rfm_segments[rfm_segments['F_Quartile']==1]), \"(\", round(len(rfm_segments[rfm_segments['F_Quartile']==1])/len(rfm_segments)*100,2), \"%)\")\n",
    "print(\"______________________________ \\n\")\n",
    "print(\"Big Spenders: \",len(rfm_segments[rfm_segments['M_Quartile']==1]), \"(\", round(len(rfm_segments[rfm_segments['M_Quartile']==1])/len(rfm_segments)*100,2), \"%)\")\n",
    "print(\"______________________________ \\n\")\n",
    "print('About to Sleep: ', len(rfm_segments[rfm_segments['RFMClass']=='322']), \"(\", round(len(rfm_segments[rfm_segments['RFMClass']=='322'])/len(rfm_segments)*100,2), \"%)\")\n",
    "print(\"______________________________ \\n\")\n",
    "print('Lost Customers: ',len(rfm_segments[rfm_segments['RFMClass']=='444']), \"(\", round(len(rfm_segments[rfm_segments['RFMClass']=='444'])/len(rfm_segments)*100,2), \"%)\") "
   ]
  },
  {
   "cell_type": "code",
   "execution_count": null,
   "id": "2795cfd3",
   "metadata": {},
   "outputs": [],
   "source": []
  }
 ],
 "metadata": {
  "kernelspec": {
   "display_name": "Python 3 (ipykernel)",
   "language": "python",
   "name": "python3"
  },
  "language_info": {
   "codemirror_mode": {
    "name": "ipython",
    "version": 3
   },
   "file_extension": ".py",
   "mimetype": "text/x-python",
   "name": "python",
   "nbconvert_exporter": "python",
   "pygments_lexer": "ipython3",
   "version": "3.10.6"
  }
 },
 "nbformat": 4,
 "nbformat_minor": 5
}
