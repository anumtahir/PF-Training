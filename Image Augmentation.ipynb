{
 "cells": [
  {
   "cell_type": "code",
   "execution_count": null,
   "id": "ff39075f",
   "metadata": {},
   "outputs": [],
   "source": [
    "from PIL import Image, ImageEnhance\n",
    "import numpy as np\n",
    "import os\n",
    "\n",
    "\n",
    "def rotate_image(image_path, degrees):\n",
    "    with Image.open(image_path) as img:\n",
    "        rotated_image = img.rotate(degrees)\n",
    "        return rotated_image\n",
    "\n",
    "\n",
    "def change_brightness(image_path, factor):\n",
    "    with Image.open(image_path) as img:\n",
    "        enhancer = ImageEnhance.Brightness(img)\n",
    "        enhanced_image = enhancer.enhance(factor)\n",
    "        return enhanced_image\n",
    "\n",
    "\n",
    "def add_noise(image_path):\n",
    "    with Image.open(image_path) as img:\n",
    "        img_array = np.array(img)\n",
    "        noise = np.random.randint(0, 50, size=img_array.shape)\n",
    "        noisy_image = np.clip(img_array + noise, 0, 255).astype(np.uint8)\n",
    "        return Image.fromarray(noisy_image)\n",
    "\n",
    "\n",
    "if not os.path.exists('rotated'):\n",
    "    os.makedirs('rotated')\n",
    "if not os.path.exists('brightness'):\n",
    "    os.makedirs('brightness')\n",
    "if not os.path.exists('noise'):\n",
    "    os.makedirs('noise')\n",
    "\n",
    "\n",
    "for file in os.listdir('cat_dog'):\n",
    "    if file.endswith('.jpeg'):\n",
    "        for i in range(72):\n",
    "            degrees = i * 5\n",
    "            rotated_image = rotate_image(f'cat_dog/{file}', degrees)\n",
    "            rotated_image.save(f'rotated/{file[:-5]}_{degrees}.jpeg')\n",
    "\n",
    "\n",
    "for file in os.listdir('cat_dog'):\n",
    "    if file.endswith('.jpeg'):\n",
    "        for i in range(5):\n",
    "            factor = np.random.uniform(0.5, 1.5)\n",
    "            enhanced_image = change_brightness(f'cat_dog/{file}', factor)\n",
    "            enhanced_image.save(f'brightness/{file[:-5]}_{i}.jpeg')\n",
    "\n",
    "\n",
    "for file in os.listdir('cat_dog'):\n",
    "    if file.endswith('.jpeg'):\n",
    "        for i in range(5):\n",
    "            noisy_image = add_noise(f'cat_dog/{file}')\n",
    "            noisy_image.save(f'noise/{file[:-5]}_{i}.jpeg')"
   ]
  }
 ],
 "metadata": {
  "kernelspec": {
   "display_name": "Python 3 (ipykernel)",
   "language": "python",
   "name": "python3"
  },
  "language_info": {
   "codemirror_mode": {
    "name": "ipython",
    "version": 3
   },
   "file_extension": ".py",
   "mimetype": "text/x-python",
   "name": "python",
   "nbconvert_exporter": "python",
   "pygments_lexer": "ipython3",
   "version": "3.10.6"
  }
 },
 "nbformat": 4,
 "nbformat_minor": 5
}
